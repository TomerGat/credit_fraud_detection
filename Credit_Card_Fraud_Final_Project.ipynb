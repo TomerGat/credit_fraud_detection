{
  "nbformat": 4,
  "nbformat_minor": 0,
  "metadata": {
    "colab": {
      "provenance": [],
      "toc_visible": true
    },
    "kernelspec": {
      "name": "python3",
      "display_name": "Python 3"
    },
    "language_info": {
      "name": "python"
    }
  },
  "cells": [
    {
      "cell_type": "markdown",
      "metadata": {
        "id": "vQvW8AmWuGfq"
      },
      "source": [
        "# **Data Science and Machine Learning Project - Tomer Gat**"
      ]
    },
    {
      "cell_type": "markdown",
      "metadata": {
        "id": "boi8uXuFuXDF"
      },
      "source": [
        "**Project Subject:**\n",
        "\n",
        "Research question: According to data regarding credit card transactions, is the transaction fraudulent?\n",
        "\n",
        "This question is increasingly relevant as digital transactions become more popular around the world. We must learn to use available data to identify fraudulent credit card transactions. In this case, we use the time of the transaction, the amount, and several financial details."
      ]
    },
    {
      "cell_type": "markdown",
      "metadata": {
        "id": "o7VTA8U3ux0x"
      },
      "source": [
        "Data from kaggle:\n",
        "https://www.kaggle.com/mlg-ulb/creditcardfraud"
      ]
    },
    {
      "cell_type": "markdown",
      "metadata": {
        "id": "OIJV-MIMs33g"
      },
      "source": [
        "**Dataset Features:**\n",
        "\n",
        "Time - time between each transaction and the first transaction in the dataset.\n",
        "\n",
        "V1...V28 - principal components of the transaction that have undergone pca transformation to protect confidentiality. We do not have the original features or background information about these attributes. As a result of the pca transformation, these features are already scaled.\n",
        "\n",
        "Amount - the transaction amount.\n",
        "\n",
        "These features detail the credit transactions (timing, amount, financial details), so the models can identify fraudulent transactions.\n",
        "\n",
        "Class - The label, whether or not the transaction is fraudulent (fraud - 1 or not fraud - 0)."
      ]
    },
    {
      "cell_type": "markdown",
      "metadata": {
        "id": "2KkcasIPuE36"
      },
      "source": [
        "**Data details:**\n",
        "\n",
        "The dataset contains credit card transactions made by credit cards in September 2013 by European cardholders. Most transactions are not fraudulent so the dataset is extremely unbalanced, with only 492 frauds out of 284,807 transactions.\n",
        "\n",
        "The dataset contains 31 features in total (including the label 'Class'), all of which are of float64 type except for 'Class', which is of int64 type.\n"
      ]
    },
    {
      "cell_type": "markdown",
      "metadata": {
        "id": "ZS-3gLze1np_"
      },
      "source": [
        "# **Importing libraries, dataset**\n"
      ]
    },
    {
      "cell_type": "code",
      "metadata": {
        "colab": {
          "base_uri": "https://localhost:8080/",
          "height": 379
        },
        "id": "_o-CL86Z5GVB",
        "outputId": "69720451-7ab8-4f86-ba82-95ccab8ff5c5"
      },
      "source": [
        "##Importing libraries\n",
        "import pandas as pd\n",
        "import numpy as np\n",
        "import seaborn as sns\n",
        "from sklearn.preprocessing import MinMaxScaler\n",
        "from sklearn.metrics import confusion_matrix\n",
        "from sklearn.metrics import classification_report\n",
        "from random import uniform\n",
        "from random import randint\n",
        "from sklearn.model_selection import train_test_split\n",
        "from imblearn.over_sampling import SMOTE\n",
        "from sklearn.metrics import accuracy_score\n",
        " \n",
        "##Importing models\n",
        "from sklearn.linear_model import LogisticRegression\n",
        "from sklearn import svm\n",
        "import sklearn.neural_network\n",
        " \n",
        "##Creating dataframe with dataset and displaying sample\n",
        "df = pd.read_csv('/content/drive/MyDrive/Data/CreditCardDataset.zip')\n",
        "df.head(10)"
      ],
      "execution_count": null,
      "outputs": [
        {
          "output_type": "execute_result",
          "data": {
            "text/html": [
              "<div>\n",
              "<style scoped>\n",
              "    .dataframe tbody tr th:only-of-type {\n",
              "        vertical-align: middle;\n",
              "    }\n",
              "\n",
              "    .dataframe tbody tr th {\n",
              "        vertical-align: top;\n",
              "    }\n",
              "\n",
              "    .dataframe thead th {\n",
              "        text-align: right;\n",
              "    }\n",
              "</style>\n",
              "<table border=\"1\" class=\"dataframe\">\n",
              "  <thead>\n",
              "    <tr style=\"text-align: right;\">\n",
              "      <th></th>\n",
              "      <th>Time</th>\n",
              "      <th>V1</th>\n",
              "      <th>V2</th>\n",
              "      <th>V3</th>\n",
              "      <th>V4</th>\n",
              "      <th>V5</th>\n",
              "      <th>V6</th>\n",
              "      <th>V7</th>\n",
              "      <th>V8</th>\n",
              "      <th>V9</th>\n",
              "      <th>V10</th>\n",
              "      <th>V11</th>\n",
              "      <th>V12</th>\n",
              "      <th>V13</th>\n",
              "      <th>V14</th>\n",
              "      <th>V15</th>\n",
              "      <th>V16</th>\n",
              "      <th>V17</th>\n",
              "      <th>V18</th>\n",
              "      <th>V19</th>\n",
              "      <th>V20</th>\n",
              "      <th>V21</th>\n",
              "      <th>V22</th>\n",
              "      <th>V23</th>\n",
              "      <th>V24</th>\n",
              "      <th>V25</th>\n",
              "      <th>V26</th>\n",
              "      <th>V27</th>\n",
              "      <th>V28</th>\n",
              "      <th>Amount</th>\n",
              "      <th>Class</th>\n",
              "    </tr>\n",
              "  </thead>\n",
              "  <tbody>\n",
              "    <tr>\n",
              "      <th>0</th>\n",
              "      <td>0.0</td>\n",
              "      <td>-1.359807</td>\n",
              "      <td>-0.072781</td>\n",
              "      <td>2.536347</td>\n",
              "      <td>1.378155</td>\n",
              "      <td>-0.338321</td>\n",
              "      <td>0.462388</td>\n",
              "      <td>0.239599</td>\n",
              "      <td>0.098698</td>\n",
              "      <td>0.363787</td>\n",
              "      <td>0.090794</td>\n",
              "      <td>-0.551600</td>\n",
              "      <td>-0.617801</td>\n",
              "      <td>-0.991390</td>\n",
              "      <td>-0.311169</td>\n",
              "      <td>1.468177</td>\n",
              "      <td>-0.470401</td>\n",
              "      <td>0.207971</td>\n",
              "      <td>0.025791</td>\n",
              "      <td>0.403993</td>\n",
              "      <td>0.251412</td>\n",
              "      <td>-0.018307</td>\n",
              "      <td>0.277838</td>\n",
              "      <td>-0.110474</td>\n",
              "      <td>0.066928</td>\n",
              "      <td>0.128539</td>\n",
              "      <td>-0.189115</td>\n",
              "      <td>0.133558</td>\n",
              "      <td>-0.021053</td>\n",
              "      <td>149.62</td>\n",
              "      <td>0</td>\n",
              "    </tr>\n",
              "    <tr>\n",
              "      <th>1</th>\n",
              "      <td>0.0</td>\n",
              "      <td>1.191857</td>\n",
              "      <td>0.266151</td>\n",
              "      <td>0.166480</td>\n",
              "      <td>0.448154</td>\n",
              "      <td>0.060018</td>\n",
              "      <td>-0.082361</td>\n",
              "      <td>-0.078803</td>\n",
              "      <td>0.085102</td>\n",
              "      <td>-0.255425</td>\n",
              "      <td>-0.166974</td>\n",
              "      <td>1.612727</td>\n",
              "      <td>1.065235</td>\n",
              "      <td>0.489095</td>\n",
              "      <td>-0.143772</td>\n",
              "      <td>0.635558</td>\n",
              "      <td>0.463917</td>\n",
              "      <td>-0.114805</td>\n",
              "      <td>-0.183361</td>\n",
              "      <td>-0.145783</td>\n",
              "      <td>-0.069083</td>\n",
              "      <td>-0.225775</td>\n",
              "      <td>-0.638672</td>\n",
              "      <td>0.101288</td>\n",
              "      <td>-0.339846</td>\n",
              "      <td>0.167170</td>\n",
              "      <td>0.125895</td>\n",
              "      <td>-0.008983</td>\n",
              "      <td>0.014724</td>\n",
              "      <td>2.69</td>\n",
              "      <td>0</td>\n",
              "    </tr>\n",
              "    <tr>\n",
              "      <th>2</th>\n",
              "      <td>1.0</td>\n",
              "      <td>-1.358354</td>\n",
              "      <td>-1.340163</td>\n",
              "      <td>1.773209</td>\n",
              "      <td>0.379780</td>\n",
              "      <td>-0.503198</td>\n",
              "      <td>1.800499</td>\n",
              "      <td>0.791461</td>\n",
              "      <td>0.247676</td>\n",
              "      <td>-1.514654</td>\n",
              "      <td>0.207643</td>\n",
              "      <td>0.624501</td>\n",
              "      <td>0.066084</td>\n",
              "      <td>0.717293</td>\n",
              "      <td>-0.165946</td>\n",
              "      <td>2.345865</td>\n",
              "      <td>-2.890083</td>\n",
              "      <td>1.109969</td>\n",
              "      <td>-0.121359</td>\n",
              "      <td>-2.261857</td>\n",
              "      <td>0.524980</td>\n",
              "      <td>0.247998</td>\n",
              "      <td>0.771679</td>\n",
              "      <td>0.909412</td>\n",
              "      <td>-0.689281</td>\n",
              "      <td>-0.327642</td>\n",
              "      <td>-0.139097</td>\n",
              "      <td>-0.055353</td>\n",
              "      <td>-0.059752</td>\n",
              "      <td>378.66</td>\n",
              "      <td>0</td>\n",
              "    </tr>\n",
              "    <tr>\n",
              "      <th>3</th>\n",
              "      <td>1.0</td>\n",
              "      <td>-0.966272</td>\n",
              "      <td>-0.185226</td>\n",
              "      <td>1.792993</td>\n",
              "      <td>-0.863291</td>\n",
              "      <td>-0.010309</td>\n",
              "      <td>1.247203</td>\n",
              "      <td>0.237609</td>\n",
              "      <td>0.377436</td>\n",
              "      <td>-1.387024</td>\n",
              "      <td>-0.054952</td>\n",
              "      <td>-0.226487</td>\n",
              "      <td>0.178228</td>\n",
              "      <td>0.507757</td>\n",
              "      <td>-0.287924</td>\n",
              "      <td>-0.631418</td>\n",
              "      <td>-1.059647</td>\n",
              "      <td>-0.684093</td>\n",
              "      <td>1.965775</td>\n",
              "      <td>-1.232622</td>\n",
              "      <td>-0.208038</td>\n",
              "      <td>-0.108300</td>\n",
              "      <td>0.005274</td>\n",
              "      <td>-0.190321</td>\n",
              "      <td>-1.175575</td>\n",
              "      <td>0.647376</td>\n",
              "      <td>-0.221929</td>\n",
              "      <td>0.062723</td>\n",
              "      <td>0.061458</td>\n",
              "      <td>123.50</td>\n",
              "      <td>0</td>\n",
              "    </tr>\n",
              "    <tr>\n",
              "      <th>4</th>\n",
              "      <td>2.0</td>\n",
              "      <td>-1.158233</td>\n",
              "      <td>0.877737</td>\n",
              "      <td>1.548718</td>\n",
              "      <td>0.403034</td>\n",
              "      <td>-0.407193</td>\n",
              "      <td>0.095921</td>\n",
              "      <td>0.592941</td>\n",
              "      <td>-0.270533</td>\n",
              "      <td>0.817739</td>\n",
              "      <td>0.753074</td>\n",
              "      <td>-0.822843</td>\n",
              "      <td>0.538196</td>\n",
              "      <td>1.345852</td>\n",
              "      <td>-1.119670</td>\n",
              "      <td>0.175121</td>\n",
              "      <td>-0.451449</td>\n",
              "      <td>-0.237033</td>\n",
              "      <td>-0.038195</td>\n",
              "      <td>0.803487</td>\n",
              "      <td>0.408542</td>\n",
              "      <td>-0.009431</td>\n",
              "      <td>0.798278</td>\n",
              "      <td>-0.137458</td>\n",
              "      <td>0.141267</td>\n",
              "      <td>-0.206010</td>\n",
              "      <td>0.502292</td>\n",
              "      <td>0.219422</td>\n",
              "      <td>0.215153</td>\n",
              "      <td>69.99</td>\n",
              "      <td>0</td>\n",
              "    </tr>\n",
              "    <tr>\n",
              "      <th>5</th>\n",
              "      <td>2.0</td>\n",
              "      <td>-0.425966</td>\n",
              "      <td>0.960523</td>\n",
              "      <td>1.141109</td>\n",
              "      <td>-0.168252</td>\n",
              "      <td>0.420987</td>\n",
              "      <td>-0.029728</td>\n",
              "      <td>0.476201</td>\n",
              "      <td>0.260314</td>\n",
              "      <td>-0.568671</td>\n",
              "      <td>-0.371407</td>\n",
              "      <td>1.341262</td>\n",
              "      <td>0.359894</td>\n",
              "      <td>-0.358091</td>\n",
              "      <td>-0.137134</td>\n",
              "      <td>0.517617</td>\n",
              "      <td>0.401726</td>\n",
              "      <td>-0.058133</td>\n",
              "      <td>0.068653</td>\n",
              "      <td>-0.033194</td>\n",
              "      <td>0.084968</td>\n",
              "      <td>-0.208254</td>\n",
              "      <td>-0.559825</td>\n",
              "      <td>-0.026398</td>\n",
              "      <td>-0.371427</td>\n",
              "      <td>-0.232794</td>\n",
              "      <td>0.105915</td>\n",
              "      <td>0.253844</td>\n",
              "      <td>0.081080</td>\n",
              "      <td>3.67</td>\n",
              "      <td>0</td>\n",
              "    </tr>\n",
              "    <tr>\n",
              "      <th>6</th>\n",
              "      <td>4.0</td>\n",
              "      <td>1.229658</td>\n",
              "      <td>0.141004</td>\n",
              "      <td>0.045371</td>\n",
              "      <td>1.202613</td>\n",
              "      <td>0.191881</td>\n",
              "      <td>0.272708</td>\n",
              "      <td>-0.005159</td>\n",
              "      <td>0.081213</td>\n",
              "      <td>0.464960</td>\n",
              "      <td>-0.099254</td>\n",
              "      <td>-1.416907</td>\n",
              "      <td>-0.153826</td>\n",
              "      <td>-0.751063</td>\n",
              "      <td>0.167372</td>\n",
              "      <td>0.050144</td>\n",
              "      <td>-0.443587</td>\n",
              "      <td>0.002821</td>\n",
              "      <td>-0.611987</td>\n",
              "      <td>-0.045575</td>\n",
              "      <td>-0.219633</td>\n",
              "      <td>-0.167716</td>\n",
              "      <td>-0.270710</td>\n",
              "      <td>-0.154104</td>\n",
              "      <td>-0.780055</td>\n",
              "      <td>0.750137</td>\n",
              "      <td>-0.257237</td>\n",
              "      <td>0.034507</td>\n",
              "      <td>0.005168</td>\n",
              "      <td>4.99</td>\n",
              "      <td>0</td>\n",
              "    </tr>\n",
              "    <tr>\n",
              "      <th>7</th>\n",
              "      <td>7.0</td>\n",
              "      <td>-0.644269</td>\n",
              "      <td>1.417964</td>\n",
              "      <td>1.074380</td>\n",
              "      <td>-0.492199</td>\n",
              "      <td>0.948934</td>\n",
              "      <td>0.428118</td>\n",
              "      <td>1.120631</td>\n",
              "      <td>-3.807864</td>\n",
              "      <td>0.615375</td>\n",
              "      <td>1.249376</td>\n",
              "      <td>-0.619468</td>\n",
              "      <td>0.291474</td>\n",
              "      <td>1.757964</td>\n",
              "      <td>-1.323865</td>\n",
              "      <td>0.686133</td>\n",
              "      <td>-0.076127</td>\n",
              "      <td>-1.222127</td>\n",
              "      <td>-0.358222</td>\n",
              "      <td>0.324505</td>\n",
              "      <td>-0.156742</td>\n",
              "      <td>1.943465</td>\n",
              "      <td>-1.015455</td>\n",
              "      <td>0.057504</td>\n",
              "      <td>-0.649709</td>\n",
              "      <td>-0.415267</td>\n",
              "      <td>-0.051634</td>\n",
              "      <td>-1.206921</td>\n",
              "      <td>-1.085339</td>\n",
              "      <td>40.80</td>\n",
              "      <td>0</td>\n",
              "    </tr>\n",
              "    <tr>\n",
              "      <th>8</th>\n",
              "      <td>7.0</td>\n",
              "      <td>-0.894286</td>\n",
              "      <td>0.286157</td>\n",
              "      <td>-0.113192</td>\n",
              "      <td>-0.271526</td>\n",
              "      <td>2.669599</td>\n",
              "      <td>3.721818</td>\n",
              "      <td>0.370145</td>\n",
              "      <td>0.851084</td>\n",
              "      <td>-0.392048</td>\n",
              "      <td>-0.410430</td>\n",
              "      <td>-0.705117</td>\n",
              "      <td>-0.110452</td>\n",
              "      <td>-0.286254</td>\n",
              "      <td>0.074355</td>\n",
              "      <td>-0.328783</td>\n",
              "      <td>-0.210077</td>\n",
              "      <td>-0.499768</td>\n",
              "      <td>0.118765</td>\n",
              "      <td>0.570328</td>\n",
              "      <td>0.052736</td>\n",
              "      <td>-0.073425</td>\n",
              "      <td>-0.268092</td>\n",
              "      <td>-0.204233</td>\n",
              "      <td>1.011592</td>\n",
              "      <td>0.373205</td>\n",
              "      <td>-0.384157</td>\n",
              "      <td>0.011747</td>\n",
              "      <td>0.142404</td>\n",
              "      <td>93.20</td>\n",
              "      <td>0</td>\n",
              "    </tr>\n",
              "    <tr>\n",
              "      <th>9</th>\n",
              "      <td>9.0</td>\n",
              "      <td>-0.338262</td>\n",
              "      <td>1.119593</td>\n",
              "      <td>1.044367</td>\n",
              "      <td>-0.222187</td>\n",
              "      <td>0.499361</td>\n",
              "      <td>-0.246761</td>\n",
              "      <td>0.651583</td>\n",
              "      <td>0.069539</td>\n",
              "      <td>-0.736727</td>\n",
              "      <td>-0.366846</td>\n",
              "      <td>1.017614</td>\n",
              "      <td>0.836390</td>\n",
              "      <td>1.006844</td>\n",
              "      <td>-0.443523</td>\n",
              "      <td>0.150219</td>\n",
              "      <td>0.739453</td>\n",
              "      <td>-0.540980</td>\n",
              "      <td>0.476677</td>\n",
              "      <td>0.451773</td>\n",
              "      <td>0.203711</td>\n",
              "      <td>-0.246914</td>\n",
              "      <td>-0.633753</td>\n",
              "      <td>-0.120794</td>\n",
              "      <td>-0.385050</td>\n",
              "      <td>-0.069733</td>\n",
              "      <td>0.094199</td>\n",
              "      <td>0.246219</td>\n",
              "      <td>0.083076</td>\n",
              "      <td>3.68</td>\n",
              "      <td>0</td>\n",
              "    </tr>\n",
              "  </tbody>\n",
              "</table>\n",
              "</div>"
            ],
            "text/plain": [
              "   Time        V1        V2        V3  ...       V27       V28  Amount  Class\n",
              "0   0.0 -1.359807 -0.072781  2.536347  ...  0.133558 -0.021053  149.62      0\n",
              "1   0.0  1.191857  0.266151  0.166480  ... -0.008983  0.014724    2.69      0\n",
              "2   1.0 -1.358354 -1.340163  1.773209  ... -0.055353 -0.059752  378.66      0\n",
              "3   1.0 -0.966272 -0.185226  1.792993  ...  0.062723  0.061458  123.50      0\n",
              "4   2.0 -1.158233  0.877737  1.548718  ...  0.219422  0.215153   69.99      0\n",
              "5   2.0 -0.425966  0.960523  1.141109  ...  0.253844  0.081080    3.67      0\n",
              "6   4.0  1.229658  0.141004  0.045371  ...  0.034507  0.005168    4.99      0\n",
              "7   7.0 -0.644269  1.417964  1.074380  ... -1.206921 -1.085339   40.80      0\n",
              "8   7.0 -0.894286  0.286157 -0.113192  ...  0.011747  0.142404   93.20      0\n",
              "9   9.0 -0.338262  1.119593  1.044367  ...  0.246219  0.083076    3.68      0\n",
              "\n",
              "[10 rows x 31 columns]"
            ]
          },
          "metadata": {
            "tags": []
          },
          "execution_count": 122
        }
      ]
    },
    {
      "cell_type": "markdown",
      "metadata": {
        "id": "UfUi1jWLu8Nr"
      },
      "source": [
        "# **Printing info about data**"
      ]
    },
    {
      "cell_type": "code",
      "metadata": {
        "colab": {
          "base_uri": "https://localhost:8080/"
        },
        "id": "reqfJi5r6B8L",
        "outputId": "1ee06f27-0a00-44e9-addb-78eb0ba6d78b"
      },
      "source": [
        "##shape of dataset\n",
        "df.shape"
      ],
      "execution_count": null,
      "outputs": [
        {
          "output_type": "execute_result",
          "data": {
            "text/plain": [
              "(284807, 31)"
            ]
          },
          "metadata": {
            "tags": []
          },
          "execution_count": 2
        }
      ]
    },
    {
      "cell_type": "code",
      "metadata": {
        "colab": {
          "base_uri": "https://localhost:8080/"
        },
        "id": "mh9TyDFl6B-g",
        "outputId": "cfaa79ba-ebfb-4100-ee7f-016c4f77da64"
      },
      "source": [
        "##list of attributes\n",
        "print(list(df))"
      ],
      "execution_count": null,
      "outputs": [
        {
          "output_type": "stream",
          "text": [
            "['Time', 'V1', 'V2', 'V3', 'V4', 'V5', 'V6', 'V7', 'V8', 'V9', 'V10', 'V11', 'V12', 'V13', 'V14', 'V15', 'V16', 'V17', 'V18', 'V19', 'V20', 'V21', 'V22', 'V23', 'V24', 'V25', 'V26', 'V27', 'V28', 'Amount', 'Class']\n"
          ],
          "name": "stdout"
        }
      ]
    },
    {
      "cell_type": "code",
      "metadata": {
        "colab": {
          "base_uri": "https://localhost:8080/",
          "height": 317
        },
        "id": "uwGNbgA76CDo",
        "outputId": "66cc4ec2-739d-42e2-8ca5-81973863ea0a"
      },
      "source": [
        "##statistics per attribute\n",
        "df.describe()"
      ],
      "execution_count": null,
      "outputs": [
        {
          "output_type": "execute_result",
          "data": {
            "text/html": [
              "<div>\n",
              "<style scoped>\n",
              "    .dataframe tbody tr th:only-of-type {\n",
              "        vertical-align: middle;\n",
              "    }\n",
              "\n",
              "    .dataframe tbody tr th {\n",
              "        vertical-align: top;\n",
              "    }\n",
              "\n",
              "    .dataframe thead th {\n",
              "        text-align: right;\n",
              "    }\n",
              "</style>\n",
              "<table border=\"1\" class=\"dataframe\">\n",
              "  <thead>\n",
              "    <tr style=\"text-align: right;\">\n",
              "      <th></th>\n",
              "      <th>Time</th>\n",
              "      <th>V1</th>\n",
              "      <th>V2</th>\n",
              "      <th>V3</th>\n",
              "      <th>V4</th>\n",
              "      <th>V5</th>\n",
              "      <th>V6</th>\n",
              "      <th>V7</th>\n",
              "      <th>V8</th>\n",
              "      <th>V9</th>\n",
              "      <th>V10</th>\n",
              "      <th>V11</th>\n",
              "      <th>V12</th>\n",
              "      <th>V13</th>\n",
              "      <th>V14</th>\n",
              "      <th>V15</th>\n",
              "      <th>V16</th>\n",
              "      <th>V17</th>\n",
              "      <th>V18</th>\n",
              "      <th>V19</th>\n",
              "      <th>V20</th>\n",
              "      <th>V21</th>\n",
              "      <th>V22</th>\n",
              "      <th>V23</th>\n",
              "      <th>V24</th>\n",
              "      <th>V25</th>\n",
              "      <th>V26</th>\n",
              "      <th>V27</th>\n",
              "      <th>V28</th>\n",
              "      <th>Amount</th>\n",
              "      <th>Class</th>\n",
              "    </tr>\n",
              "  </thead>\n",
              "  <tbody>\n",
              "    <tr>\n",
              "      <th>count</th>\n",
              "      <td>284807.000000</td>\n",
              "      <td>2.848070e+05</td>\n",
              "      <td>2.848070e+05</td>\n",
              "      <td>2.848070e+05</td>\n",
              "      <td>2.848070e+05</td>\n",
              "      <td>2.848070e+05</td>\n",
              "      <td>2.848070e+05</td>\n",
              "      <td>2.848070e+05</td>\n",
              "      <td>2.848070e+05</td>\n",
              "      <td>2.848070e+05</td>\n",
              "      <td>2.848070e+05</td>\n",
              "      <td>2.848070e+05</td>\n",
              "      <td>2.848070e+05</td>\n",
              "      <td>2.848070e+05</td>\n",
              "      <td>2.848070e+05</td>\n",
              "      <td>2.848070e+05</td>\n",
              "      <td>2.848070e+05</td>\n",
              "      <td>2.848070e+05</td>\n",
              "      <td>2.848070e+05</td>\n",
              "      <td>2.848070e+05</td>\n",
              "      <td>2.848070e+05</td>\n",
              "      <td>2.848070e+05</td>\n",
              "      <td>2.848070e+05</td>\n",
              "      <td>2.848070e+05</td>\n",
              "      <td>2.848070e+05</td>\n",
              "      <td>2.848070e+05</td>\n",
              "      <td>2.848070e+05</td>\n",
              "      <td>2.848070e+05</td>\n",
              "      <td>2.848070e+05</td>\n",
              "      <td>284807.000000</td>\n",
              "      <td>284807.000000</td>\n",
              "    </tr>\n",
              "    <tr>\n",
              "      <th>mean</th>\n",
              "      <td>94813.859575</td>\n",
              "      <td>3.919560e-15</td>\n",
              "      <td>5.688174e-16</td>\n",
              "      <td>-8.769071e-15</td>\n",
              "      <td>2.782312e-15</td>\n",
              "      <td>-1.552563e-15</td>\n",
              "      <td>2.010663e-15</td>\n",
              "      <td>-1.694249e-15</td>\n",
              "      <td>-1.927028e-16</td>\n",
              "      <td>-3.137024e-15</td>\n",
              "      <td>1.768627e-15</td>\n",
              "      <td>9.170318e-16</td>\n",
              "      <td>-1.810658e-15</td>\n",
              "      <td>1.693438e-15</td>\n",
              "      <td>1.479045e-15</td>\n",
              "      <td>3.482336e-15</td>\n",
              "      <td>1.392007e-15</td>\n",
              "      <td>-7.528491e-16</td>\n",
              "      <td>4.328772e-16</td>\n",
              "      <td>9.049732e-16</td>\n",
              "      <td>5.085503e-16</td>\n",
              "      <td>1.537294e-16</td>\n",
              "      <td>7.959909e-16</td>\n",
              "      <td>5.367590e-16</td>\n",
              "      <td>4.458112e-15</td>\n",
              "      <td>1.453003e-15</td>\n",
              "      <td>1.699104e-15</td>\n",
              "      <td>-3.660161e-16</td>\n",
              "      <td>-1.206049e-16</td>\n",
              "      <td>88.349619</td>\n",
              "      <td>0.001727</td>\n",
              "    </tr>\n",
              "    <tr>\n",
              "      <th>std</th>\n",
              "      <td>47488.145955</td>\n",
              "      <td>1.958696e+00</td>\n",
              "      <td>1.651309e+00</td>\n",
              "      <td>1.516255e+00</td>\n",
              "      <td>1.415869e+00</td>\n",
              "      <td>1.380247e+00</td>\n",
              "      <td>1.332271e+00</td>\n",
              "      <td>1.237094e+00</td>\n",
              "      <td>1.194353e+00</td>\n",
              "      <td>1.098632e+00</td>\n",
              "      <td>1.088850e+00</td>\n",
              "      <td>1.020713e+00</td>\n",
              "      <td>9.992014e-01</td>\n",
              "      <td>9.952742e-01</td>\n",
              "      <td>9.585956e-01</td>\n",
              "      <td>9.153160e-01</td>\n",
              "      <td>8.762529e-01</td>\n",
              "      <td>8.493371e-01</td>\n",
              "      <td>8.381762e-01</td>\n",
              "      <td>8.140405e-01</td>\n",
              "      <td>7.709250e-01</td>\n",
              "      <td>7.345240e-01</td>\n",
              "      <td>7.257016e-01</td>\n",
              "      <td>6.244603e-01</td>\n",
              "      <td>6.056471e-01</td>\n",
              "      <td>5.212781e-01</td>\n",
              "      <td>4.822270e-01</td>\n",
              "      <td>4.036325e-01</td>\n",
              "      <td>3.300833e-01</td>\n",
              "      <td>250.120109</td>\n",
              "      <td>0.041527</td>\n",
              "    </tr>\n",
              "    <tr>\n",
              "      <th>min</th>\n",
              "      <td>0.000000</td>\n",
              "      <td>-5.640751e+01</td>\n",
              "      <td>-7.271573e+01</td>\n",
              "      <td>-4.832559e+01</td>\n",
              "      <td>-5.683171e+00</td>\n",
              "      <td>-1.137433e+02</td>\n",
              "      <td>-2.616051e+01</td>\n",
              "      <td>-4.355724e+01</td>\n",
              "      <td>-7.321672e+01</td>\n",
              "      <td>-1.343407e+01</td>\n",
              "      <td>-2.458826e+01</td>\n",
              "      <td>-4.797473e+00</td>\n",
              "      <td>-1.868371e+01</td>\n",
              "      <td>-5.791881e+00</td>\n",
              "      <td>-1.921433e+01</td>\n",
              "      <td>-4.498945e+00</td>\n",
              "      <td>-1.412985e+01</td>\n",
              "      <td>-2.516280e+01</td>\n",
              "      <td>-9.498746e+00</td>\n",
              "      <td>-7.213527e+00</td>\n",
              "      <td>-5.449772e+01</td>\n",
              "      <td>-3.483038e+01</td>\n",
              "      <td>-1.093314e+01</td>\n",
              "      <td>-4.480774e+01</td>\n",
              "      <td>-2.836627e+00</td>\n",
              "      <td>-1.029540e+01</td>\n",
              "      <td>-2.604551e+00</td>\n",
              "      <td>-2.256568e+01</td>\n",
              "      <td>-1.543008e+01</td>\n",
              "      <td>0.000000</td>\n",
              "      <td>0.000000</td>\n",
              "    </tr>\n",
              "    <tr>\n",
              "      <th>25%</th>\n",
              "      <td>54201.500000</td>\n",
              "      <td>-9.203734e-01</td>\n",
              "      <td>-5.985499e-01</td>\n",
              "      <td>-8.903648e-01</td>\n",
              "      <td>-8.486401e-01</td>\n",
              "      <td>-6.915971e-01</td>\n",
              "      <td>-7.682956e-01</td>\n",
              "      <td>-5.540759e-01</td>\n",
              "      <td>-2.086297e-01</td>\n",
              "      <td>-6.430976e-01</td>\n",
              "      <td>-5.354257e-01</td>\n",
              "      <td>-7.624942e-01</td>\n",
              "      <td>-4.055715e-01</td>\n",
              "      <td>-6.485393e-01</td>\n",
              "      <td>-4.255740e-01</td>\n",
              "      <td>-5.828843e-01</td>\n",
              "      <td>-4.680368e-01</td>\n",
              "      <td>-4.837483e-01</td>\n",
              "      <td>-4.988498e-01</td>\n",
              "      <td>-4.562989e-01</td>\n",
              "      <td>-2.117214e-01</td>\n",
              "      <td>-2.283949e-01</td>\n",
              "      <td>-5.423504e-01</td>\n",
              "      <td>-1.618463e-01</td>\n",
              "      <td>-3.545861e-01</td>\n",
              "      <td>-3.171451e-01</td>\n",
              "      <td>-3.269839e-01</td>\n",
              "      <td>-7.083953e-02</td>\n",
              "      <td>-5.295979e-02</td>\n",
              "      <td>5.600000</td>\n",
              "      <td>0.000000</td>\n",
              "    </tr>\n",
              "    <tr>\n",
              "      <th>50%</th>\n",
              "      <td>84692.000000</td>\n",
              "      <td>1.810880e-02</td>\n",
              "      <td>6.548556e-02</td>\n",
              "      <td>1.798463e-01</td>\n",
              "      <td>-1.984653e-02</td>\n",
              "      <td>-5.433583e-02</td>\n",
              "      <td>-2.741871e-01</td>\n",
              "      <td>4.010308e-02</td>\n",
              "      <td>2.235804e-02</td>\n",
              "      <td>-5.142873e-02</td>\n",
              "      <td>-9.291738e-02</td>\n",
              "      <td>-3.275735e-02</td>\n",
              "      <td>1.400326e-01</td>\n",
              "      <td>-1.356806e-02</td>\n",
              "      <td>5.060132e-02</td>\n",
              "      <td>4.807155e-02</td>\n",
              "      <td>6.641332e-02</td>\n",
              "      <td>-6.567575e-02</td>\n",
              "      <td>-3.636312e-03</td>\n",
              "      <td>3.734823e-03</td>\n",
              "      <td>-6.248109e-02</td>\n",
              "      <td>-2.945017e-02</td>\n",
              "      <td>6.781943e-03</td>\n",
              "      <td>-1.119293e-02</td>\n",
              "      <td>4.097606e-02</td>\n",
              "      <td>1.659350e-02</td>\n",
              "      <td>-5.213911e-02</td>\n",
              "      <td>1.342146e-03</td>\n",
              "      <td>1.124383e-02</td>\n",
              "      <td>22.000000</td>\n",
              "      <td>0.000000</td>\n",
              "    </tr>\n",
              "    <tr>\n",
              "      <th>75%</th>\n",
              "      <td>139320.500000</td>\n",
              "      <td>1.315642e+00</td>\n",
              "      <td>8.037239e-01</td>\n",
              "      <td>1.027196e+00</td>\n",
              "      <td>7.433413e-01</td>\n",
              "      <td>6.119264e-01</td>\n",
              "      <td>3.985649e-01</td>\n",
              "      <td>5.704361e-01</td>\n",
              "      <td>3.273459e-01</td>\n",
              "      <td>5.971390e-01</td>\n",
              "      <td>4.539234e-01</td>\n",
              "      <td>7.395934e-01</td>\n",
              "      <td>6.182380e-01</td>\n",
              "      <td>6.625050e-01</td>\n",
              "      <td>4.931498e-01</td>\n",
              "      <td>6.488208e-01</td>\n",
              "      <td>5.232963e-01</td>\n",
              "      <td>3.996750e-01</td>\n",
              "      <td>5.008067e-01</td>\n",
              "      <td>4.589494e-01</td>\n",
              "      <td>1.330408e-01</td>\n",
              "      <td>1.863772e-01</td>\n",
              "      <td>5.285536e-01</td>\n",
              "      <td>1.476421e-01</td>\n",
              "      <td>4.395266e-01</td>\n",
              "      <td>3.507156e-01</td>\n",
              "      <td>2.409522e-01</td>\n",
              "      <td>9.104512e-02</td>\n",
              "      <td>7.827995e-02</td>\n",
              "      <td>77.165000</td>\n",
              "      <td>0.000000</td>\n",
              "    </tr>\n",
              "    <tr>\n",
              "      <th>max</th>\n",
              "      <td>172792.000000</td>\n",
              "      <td>2.454930e+00</td>\n",
              "      <td>2.205773e+01</td>\n",
              "      <td>9.382558e+00</td>\n",
              "      <td>1.687534e+01</td>\n",
              "      <td>3.480167e+01</td>\n",
              "      <td>7.330163e+01</td>\n",
              "      <td>1.205895e+02</td>\n",
              "      <td>2.000721e+01</td>\n",
              "      <td>1.559499e+01</td>\n",
              "      <td>2.374514e+01</td>\n",
              "      <td>1.201891e+01</td>\n",
              "      <td>7.848392e+00</td>\n",
              "      <td>7.126883e+00</td>\n",
              "      <td>1.052677e+01</td>\n",
              "      <td>8.877742e+00</td>\n",
              "      <td>1.731511e+01</td>\n",
              "      <td>9.253526e+00</td>\n",
              "      <td>5.041069e+00</td>\n",
              "      <td>5.591971e+00</td>\n",
              "      <td>3.942090e+01</td>\n",
              "      <td>2.720284e+01</td>\n",
              "      <td>1.050309e+01</td>\n",
              "      <td>2.252841e+01</td>\n",
              "      <td>4.584549e+00</td>\n",
              "      <td>7.519589e+00</td>\n",
              "      <td>3.517346e+00</td>\n",
              "      <td>3.161220e+01</td>\n",
              "      <td>3.384781e+01</td>\n",
              "      <td>25691.160000</td>\n",
              "      <td>1.000000</td>\n",
              "    </tr>\n",
              "  </tbody>\n",
              "</table>\n",
              "</div>"
            ],
            "text/plain": [
              "                Time            V1  ...         Amount          Class\n",
              "count  284807.000000  2.848070e+05  ...  284807.000000  284807.000000\n",
              "mean    94813.859575  3.919560e-15  ...      88.349619       0.001727\n",
              "std     47488.145955  1.958696e+00  ...     250.120109       0.041527\n",
              "min         0.000000 -5.640751e+01  ...       0.000000       0.000000\n",
              "25%     54201.500000 -9.203734e-01  ...       5.600000       0.000000\n",
              "50%     84692.000000  1.810880e-02  ...      22.000000       0.000000\n",
              "75%    139320.500000  1.315642e+00  ...      77.165000       0.000000\n",
              "max    172792.000000  2.454930e+00  ...   25691.160000       1.000000\n",
              "\n",
              "[8 rows x 31 columns]"
            ]
          },
          "metadata": {
            "tags": []
          },
          "execution_count": 4
        }
      ]
    },
    {
      "cell_type": "code",
      "metadata": {
        "colab": {
          "base_uri": "https://localhost:8080/"
        },
        "id": "biK-X-br6CA6",
        "outputId": "c18b05f3-d41a-4ddf-97b6-ad83c94a3bf5"
      },
      "source": [
        "##amount of non-nulls\n",
        "df.info()"
      ],
      "execution_count": null,
      "outputs": [
        {
          "output_type": "stream",
          "text": [
            "<class 'pandas.core.frame.DataFrame'>\n",
            "RangeIndex: 284807 entries, 0 to 284806\n",
            "Data columns (total 31 columns):\n",
            " #   Column  Non-Null Count   Dtype  \n",
            "---  ------  --------------   -----  \n",
            " 0   Time    284807 non-null  float64\n",
            " 1   V1      284807 non-null  float64\n",
            " 2   V2      284807 non-null  float64\n",
            " 3   V3      284807 non-null  float64\n",
            " 4   V4      284807 non-null  float64\n",
            " 5   V5      284807 non-null  float64\n",
            " 6   V6      284807 non-null  float64\n",
            " 7   V7      284807 non-null  float64\n",
            " 8   V8      284807 non-null  float64\n",
            " 9   V9      284807 non-null  float64\n",
            " 10  V10     284807 non-null  float64\n",
            " 11  V11     284807 non-null  float64\n",
            " 12  V12     284807 non-null  float64\n",
            " 13  V13     284807 non-null  float64\n",
            " 14  V14     284807 non-null  float64\n",
            " 15  V15     284807 non-null  float64\n",
            " 16  V16     284807 non-null  float64\n",
            " 17  V17     284807 non-null  float64\n",
            " 18  V18     284807 non-null  float64\n",
            " 19  V19     284807 non-null  float64\n",
            " 20  V20     284807 non-null  float64\n",
            " 21  V21     284807 non-null  float64\n",
            " 22  V22     284807 non-null  float64\n",
            " 23  V23     284807 non-null  float64\n",
            " 24  V24     284807 non-null  float64\n",
            " 25  V25     284807 non-null  float64\n",
            " 26  V26     284807 non-null  float64\n",
            " 27  V27     284807 non-null  float64\n",
            " 28  V28     284807 non-null  float64\n",
            " 29  Amount  284807 non-null  float64\n",
            " 30  Class   284807 non-null  int64  \n",
            "dtypes: float64(30), int64(1)\n",
            "memory usage: 67.4 MB\n"
          ],
          "name": "stdout"
        }
      ]
    },
    {
      "cell_type": "markdown",
      "metadata": {
        "id": "l-DpRmnxkl8q"
      },
      "source": [
        "We have no nulls in the dataset, we can now continue with data improvement."
      ]
    },
    {
      "cell_type": "markdown",
      "metadata": {
        "id": "nir7yhqhvFd5"
      },
      "source": [
        "# **Scaling attributes using sklearn MinMax Scaler**"
      ]
    },
    {
      "cell_type": "code",
      "metadata": {
        "id": "8ShGxV1fwdK2"
      },
      "source": [
        "##Scaling unscaled attributes using sklearn MinMaxScaler, other attributes are already scaled\n",
        "df['timeN']=MinMaxScaler().fit_transform(df['Time'].values.reshape(-1 ,1))\n",
        "df['amountN']=MinMaxScaler().fit_transform(df['Amount'].values.reshape(-1 ,1))"
      ],
      "execution_count": null,
      "outputs": []
    },
    {
      "cell_type": "code",
      "metadata": {
        "colab": {
          "base_uri": "https://localhost:8080/"
        },
        "id": "MeVdHFeK6oti",
        "outputId": "db7ab5b7-c72a-43a9-c8e4-bb7ccff8de36"
      },
      "source": [
        "##Checking that attributes are indeed scaled (range is 0 to 1)\n",
        "print('\\033[1m' + \"'timeN' attribute\", '\\033[0m', \"\\n\", \"minimum: \", df['timeN'].min(), \"\\n\", \"maximum: \", df['timeN'].max())\n",
        "print(\"\\n\")\n",
        "print('\\033[1m' + \"'amountN' attribute\", '\\033[0m', \"\\n\", \"minimum: \", df['timeN'].min(), \"\\n\", \"maximum: \", df['timeN'].max())"
      ],
      "execution_count": null,
      "outputs": [
        {
          "output_type": "stream",
          "text": [
            "\u001b[1m'timeN' attribute \u001b[0m \n",
            " minimum:  0.0 \n",
            " maximum:  1.0\n",
            "\n",
            "\n",
            "\u001b[1m'amountN' attribute \u001b[0m \n",
            " minimum:  0.0 \n",
            " maximum:  1.0\n"
          ],
          "name": "stdout"
        }
      ]
    },
    {
      "cell_type": "markdown",
      "metadata": {
        "id": "HB1KM9cKRcnS"
      },
      "source": [
        "Attributes are indeed scaled in the correct range"
      ]
    },
    {
      "cell_type": "code",
      "metadata": {
        "colab": {
          "base_uri": "https://localhost:8080/"
        },
        "id": "Q48t0hUA5Us2",
        "outputId": "1384e500-3eeb-49c0-b9aa-941adc888a5e"
      },
      "source": [
        "##Checking all attributes\n",
        "print(list(df))"
      ],
      "execution_count": null,
      "outputs": [
        {
          "output_type": "stream",
          "text": [
            "['Time', 'V1', 'V2', 'V3', 'V4', 'V5', 'V6', 'V7', 'V8', 'V9', 'V10', 'V11', 'V12', 'V13', 'V14', 'V15', 'V16', 'V17', 'V18', 'V19', 'V20', 'V21', 'V22', 'V23', 'V24', 'V25', 'V26', 'V27', 'V28', 'Amount', 'Class', 'timeN', 'amountN']\n"
          ],
          "name": "stdout"
        }
      ]
    },
    {
      "cell_type": "code",
      "metadata": {
        "id": "sLGxGHcB7whG"
      },
      "source": [
        "##Deleting initial (non-scaled) attributes\n",
        "df.drop(['Time', 'Amount'], axis=1, inplace=True)"
      ],
      "execution_count": null,
      "outputs": []
    },
    {
      "cell_type": "code",
      "metadata": {
        "colab": {
          "base_uri": "https://localhost:8080/"
        },
        "id": "1vYotezX8aAk",
        "outputId": "0291b049-2d40-4261-9daa-0b3d98e8d3c2"
      },
      "source": [
        "##Checking that only scaled attributes remain\n",
        "print(list(df))"
      ],
      "execution_count": null,
      "outputs": [
        {
          "output_type": "stream",
          "text": [
            "['V1', 'V2', 'V3', 'V4', 'V5', 'V6', 'V7', 'V8', 'V9', 'V10', 'V11', 'V12', 'V13', 'V14', 'V15', 'V16', 'V17', 'V18', 'V19', 'V20', 'V21', 'V22', 'V23', 'V24', 'V25', 'V26', 'V27', 'V28', 'Class', 'timeN', 'amountN']\n"
          ],
          "name": "stdout"
        }
      ]
    },
    {
      "cell_type": "markdown",
      "metadata": {
        "id": "L2nhgX6yvmks"
      },
      "source": [
        "# **Dividing scaled dataset into X and Y**"
      ]
    },
    {
      "cell_type": "code",
      "metadata": {
        "colab": {
          "base_uri": "https://localhost:8080/"
        },
        "id": "sjdpEfRR6lG3",
        "outputId": "f0bca073-d7ad-435d-a9a4-4b87ce876518"
      },
      "source": [
        "##Dividing into X and Y as numpy arrays. Our Y is class: whether or not the transaction is fraudulent. X and Y are shaped as numpy arrays in order to run oversampling on them later.\n",
        "X = np.array(df.iloc[:, df.columns != 'Class'])\n",
        "Y = np.array(df.iloc[:, df.columns == 'Class'])\n",
        "print(Y)\n",
        "print(X)"
      ],
      "execution_count": null,
      "outputs": [
        {
          "output_type": "stream",
          "text": [
            "[[0]\n",
            " [0]\n",
            " [0]\n",
            " ...\n",
            " [0]\n",
            " [0]\n",
            " [0]]\n",
            "[[-1.35980713e+00 -7.27811733e-02  2.53634674e+00 ... -2.10530535e-02\n",
            "   0.00000000e+00  5.82379309e-03]\n",
            " [ 1.19185711e+00  2.66150712e-01  1.66480113e-01 ...  1.47241692e-02\n",
            "   0.00000000e+00  1.04705276e-04]\n",
            " [-1.35835406e+00 -1.34016307e+00  1.77320934e+00 ... -5.97518406e-02\n",
            "   5.78730497e-06  1.47389219e-02]\n",
            " ...\n",
            " [ 1.91956501e+00 -3.01253846e-01 -3.24963981e+00 ... -2.65608286e-02\n",
            "   9.99976851e-01  2.64215395e-03]\n",
            " [-2.40440050e-01  5.30482513e-01  7.02510230e-01 ...  1.04532821e-01\n",
            "   9.99976851e-01  3.89238944e-04]\n",
            " [-5.33412522e-01 -1.89733337e-01  7.03337367e-01 ...  1.36489143e-02\n",
            "   1.00000000e+00  8.44648509e-03]]\n"
          ],
          "name": "stdout"
        }
      ]
    },
    {
      "cell_type": "markdown",
      "metadata": {
        "id": "OQQcG61TvxtJ"
      },
      "source": [
        "# **Visualization - effect of each attribute on Y (Class, whether or not the transaction is fraudulent)**"
      ]
    },
    {
      "cell_type": "code",
      "metadata": {
        "colab": {
          "base_uri": "https://localhost:8080/",
          "height": 622
        },
        "id": "q4CbaXXmmJqe",
        "outputId": "18e720d4-562d-4ef6-f141-eec3d4662753"
      },
      "source": [
        "##Creating a seaborn pairplot for visualization\n",
        "Y1 = Y.reshape((len(Y),1))\n",
        "np_arr = np.concatenate((X, Y1),axis=1)\n",
        "df1 = pd.DataFrame(np_arr)\n",
        "df1.columns = ['V1', 'V2', 'V3', 'V4', 'V5', 'V6', 'V7', 'V8', 'V9', 'V10', 'V11', 'V12', 'V13', 'V14', 'V15', 'V16', 'V17', 'V18', 'V19', 'V20', 'V21', 'V22', 'V23', 'V24', 'V25', 'V26', 'V27', 'V28', 'Class', 'timeN', 'amountN']\n",
        "df1 = df1.astype('float64')\n",
        "sns.pairplot(df1,x_vars=['V1', 'V2', 'V3', 'V4', 'V5', 'V6', 'V7', 'V8', 'V9', 'V10', 'V11', 'V12', 'V13', 'V14', 'V15', 'V16', 'V17', 'V18', 'V19', 'V20', 'V21', 'V22', 'V23', 'V24', 'V25', 'V26', 'V27', 'V28', 'timeN', 'amountN'],y_vars= ['Class'],kind=\"reg\", height=5)\n",
        "df1.corr()['Class'][:].sort_values(ascending=False)"
      ],
      "execution_count": null,
      "outputs": [
        {
          "output_type": "execute_result",
          "data": {
            "text/plain": [
              "Class      1.000000\n",
              "V5         0.173072\n",
              "V22        0.144059\n",
              "V12        0.124348\n",
              "V1         0.117396\n",
              "V18        0.090438\n",
              "V7         0.084714\n",
              "V23        0.051142\n",
              "V21        0.044736\n",
              "V10        0.030617\n",
              "V19        0.028975\n",
              "V16        0.011903\n",
              "V27       -0.005135\n",
              "V9        -0.008660\n",
              "V28       -0.009413\n",
              "V2        -0.010593\n",
              "timeN     -0.010596\n",
              "amountN   -0.012323\n",
              "V24       -0.016182\n",
              "V8        -0.036949\n",
              "V26       -0.041407\n",
              "V20       -0.050866\n",
              "V6        -0.063016\n",
              "V13       -0.065902\n",
              "V17       -0.073297\n",
              "V14       -0.098757\n",
              "V4        -0.105260\n",
              "V15       -0.183453\n",
              "V25       -0.233083\n",
              "V11       -0.247689\n",
              "V3        -0.419618\n",
              "Name: Class, dtype: float64"
            ]
          },
          "metadata": {
            "tags": []
          },
          "execution_count": 43
        },
        {
          "output_type": "display_data",
          "data": {
            "image/png": "[encoded data removed]",
            "text/plain": [
              "<Figure size 10800x360 with 30 Axes>"
            ]
          },
          "metadata": {
            "tags": [],
            "needs_background": "light"
          }
        }
      ]
    },
    {
      "cell_type": "markdown",
      "metadata": {
        "id": "5sly2ANptJFC"
      },
      "source": [
        "After visualization, we can see the effect of each attribute on y. As a result, we know which attributes are relatively unnecessary."
      ]
    },
    {
      "cell_type": "code",
      "metadata": {
        "id": "qUGpj4vRAQtA"
      },
      "source": [
        "##Deleting unnecessary attributes, according to visualization\n",
        "df.drop(['V16', 'V19', 'V10', 'V27', 'V9', 'V28', 'V2', 'timeN'], axis=1, inplace=True)"
      ],
      "execution_count": null,
      "outputs": []
    },
    {
      "cell_type": "code",
      "metadata": {
        "id": "xDQ6Qr-96luA",
        "colab": {
          "base_uri": "https://localhost:8080/"
        },
        "outputId": "08d36b8d-7952-4324-b67f-0f469f6ae90e"
      },
      "source": [
        "##Checking remaining attributes\n",
        "print(list(df))"
      ],
      "execution_count": null,
      "outputs": [
        {
          "output_type": "stream",
          "text": [
            "['V1', 'V3', 'V4', 'V5', 'V6', 'V7', 'V8', 'V11', 'V12', 'V13', 'V14', 'V15', 'V17', 'V18', 'V20', 'V21', 'V22', 'V23', 'V24', 'V25', 'V26', 'Class', 'amountN']\n"
          ],
          "name": "stdout"
        }
      ]
    },
    {
      "cell_type": "code",
      "metadata": {
        "colab": {
          "base_uri": "https://localhost:8080/"
        },
        "id": "uBlDLUpRlygS",
        "outputId": "806de7f9-ddf8-4cdc-9a62-689fea4b49ca"
      },
      "source": [
        "##Dividing into new X and Y after deleting unnecessary attributes\n",
        "X = np.array(df.iloc[:, df.columns != 'Class'])\n",
        "Y = np.array(df.iloc[:, df.columns == 'Class'])\n",
        "print(Y)\n",
        "print(X)"
      ],
      "execution_count": null,
      "outputs": [
        {
          "output_type": "stream",
          "text": [
            "[[0]\n",
            " [0]\n",
            " [0]\n",
            " ...\n",
            " [0]\n",
            " [0]\n",
            " [0]]\n",
            "[[-1.35980713e+00  2.53634674e+00  1.37815522e+00 ...  1.28539358e-01\n",
            "  -1.89114844e-01  5.82379309e-03]\n",
            " [ 1.19185711e+00  1.66480113e-01  4.48154078e-01 ...  1.67170404e-01\n",
            "   1.25894532e-01  1.04705276e-04]\n",
            " [-1.35835406e+00  1.77320934e+00  3.79779593e-01 ... -3.27641834e-01\n",
            "  -1.39096572e-01  1.47389219e-02]\n",
            " ...\n",
            " [ 1.91956501e+00 -3.24963981e+00 -5.57828125e-01 ...  2.65745453e-01\n",
            "  -8.73705959e-02  2.64215395e-03]\n",
            " [-2.40440050e-01  7.02510230e-01  6.89799168e-01 ... -5.69158864e-01\n",
            "   5.46668462e-01  3.89238944e-04]\n",
            " [-5.33412522e-01  7.03337367e-01 -5.06271240e-01 ... -4.73648704e-01\n",
            "  -8.18267121e-01  8.44648509e-03]]\n"
          ],
          "name": "stdout"
        }
      ]
    },
    {
      "cell_type": "markdown",
      "metadata": {
        "id": "4fRDB_dawH_c"
      },
      "source": [
        "# **Dividing data into train and test using sklearn train_test_split**"
      ]
    },
    {
      "cell_type": "code",
      "metadata": {
        "id": "CkvCQLlcvol9",
        "colab": {
          "base_uri": "https://localhost:8080/"
        },
        "outputId": "72b16254-c816-4ae3-84c5-3df36f3e69bc"
      },
      "source": [
        "##Dividing our data into train and test, the size of the train data will be 80% of the data, while test will be 20% of the data. random_state is 101 to shuffle the data\n",
        "X_train, X_test, Y_train, Y_test = train_test_split(X, Y, train_size = 0.8, test_size=0.2, random_state=101)\n",
        "X_train.shape, Y_train.shape\n",
        "\n",
        "X_test.shape, Y_test.shape"
      ],
      "execution_count": null,
      "outputs": [
        {
          "output_type": "execute_result",
          "data": {
            "text/plain": [
              "((56962, 22), (56962, 1))"
            ]
          },
          "metadata": {
            "tags": []
          },
          "execution_count": 15
        }
      ]
    },
    {
      "cell_type": "markdown",
      "metadata": {
        "id": "7xxw3m-tV6I7"
      },
      "source": [
        "# **Oversampling - balancing class distribution**"
      ]
    },
    {
      "cell_type": "markdown",
      "metadata": {
        "id": "O7udya7nNsui"
      },
      "source": [
        "**Dataset is inbalanced, biased toward majority class (not fraud, 'Class'=0). We will use OverSampling with smote in order to balance the dataset**"
      ]
    },
    {
      "cell_type": "code",
      "metadata": {
        "id": "B5GqQvfx7_AF",
        "colab": {
          "base_uri": "https://localhost:8080/"
        },
        "outputId": "eb8f8bda-e501-4864-c988-674356b27777"
      },
      "source": [
        "##Balancing class distribution for train data\n",
        "print(\"Transaction Number x_train dataset: \", X_train.shape)\n",
        "print(\"Transaction Number y_train dataset: \", Y_train.shape)\n",
        "print(\"Transaction Number x_test dataset: \", X_test.shape)\n",
        "print(\"Transaction Number y_test dataset: \", Y_test.shape)\n",
        "\n",
        "print(\"Before OverSampling, counts of label '1': {}\".format(sum(Y_train==1)))\n",
        "print(\"Before OverSampling, counts of label '0': {} \\n\".format(sum(Y_train==0)))\n",
        "\n",
        "sm = SMOTE(random_state=2)\n",
        "X_train_s, Y_train_s = sm.fit_sample(X_train, Y_train.ravel())\n",
        "\n",
        "print('After OverSampling, the shape of train_x: {}'.format(X_train_s.shape))\n",
        "print('After OverSampling, the shape of train_y: {} \\n'.format(Y_train_s.shape))\n",
        "\n",
        "print(\"After OverSampling, counts of label '1', %: {}\".format(sum(Y_train_s==1)/len(Y_train_s)*100.0,2))\n",
        "print(\"After OverSampling, counts of label '0', %: {}\".format(sum(Y_train_s==0)/len(Y_train_s)*100.0,2))"
      ],
      "execution_count": null,
      "outputs": [
        {
          "output_type": "stream",
          "text": [
            "Transaction Number x_train dataset:  (227845, 22)\n",
            "Transaction Number y_train dataset:  (227845, 1)\n",
            "Transaction Number x_test dataset:  (56962, 22)\n",
            "Transaction Number y_test dataset:  (56962, 1)\n",
            "Before OverSampling, counts of label '1': [389]\n",
            "Before OverSampling, counts of label '0': [227456] \n",
            "\n"
          ],
          "name": "stdout"
        },
        {
          "output_type": "stream",
          "text": [
            "/usr/local/lib/python3.7/dist-packages/sklearn/utils/deprecation.py:87: FutureWarning: Function safe_indexing is deprecated; safe_indexing is deprecated in version 0.22 and will be removed in version 0.24.\n",
            "  warnings.warn(msg, category=FutureWarning)\n"
          ],
          "name": "stderr"
        },
        {
          "output_type": "stream",
          "text": [
            "After OverSampling, the shape of train_x: (454912, 22)\n",
            "After OverSampling, the shape of train_y: (454912,) \n",
            "\n",
            "After OverSampling, counts of label '1', %: 50.0\n",
            "After OverSampling, counts of label '0', %: 50.0\n"
          ],
          "name": "stdout"
        }
      ]
    },
    {
      "cell_type": "code",
      "metadata": {
        "id": "QXxtpR-zQ-Aw",
        "colab": {
          "base_uri": "https://localhost:8080/"
        },
        "outputId": "0f3df86b-96ab-473c-e09d-9695a7304742"
      },
      "source": [
        "##Balancing class distribution for test data\n",
        "print(\"Transaction Number x_train dataset: \", X_train.shape)\n",
        "print(\"Transaction Number y_train dataset: \", Y_train.shape)\n",
        "print(\"Transaction Number x_test dataset: \", X_test.shape)\n",
        "print(\"Transaction Number y_test dataset: \", Y_test.shape)\n",
        "\n",
        "print(\"Before OverSampling, counts of label '1': {}\".format(sum(Y_test==1)))\n",
        "print(\"Before OverSampling, counts of label '0': {} \\n\".format(sum(Y_test==0)))\n",
        "\n",
        "sm = SMOTE(random_state=2)\n",
        "X_test_s, Y_test_s = sm.fit_sample(X_test, Y_test.ravel())\n",
        "\n",
        "print('After OverSampling, the shape of test_x: {}'.format(X_test_s.shape))\n",
        "print('After OverSampling, the shape of test_y: {} \\n'.format(Y_test_s.shape))\n",
        "\n",
        "print(\"After OverSampling, counts of label '1', %: {}\".format(sum(Y_test_s==1)/len(Y_test_s)*100.0,2))\n",
        "print(\"After OverSampling, counts of label '0', %: {}\".format(sum(Y_test_s==0)/len(Y_test_s)*100.0,2))\n"
      ],
      "execution_count": null,
      "outputs": [
        {
          "output_type": "stream",
          "text": [
            "Transaction Number x_train dataset:  (227845, 22)\n",
            "Transaction Number y_train dataset:  (227845, 1)\n",
            "Transaction Number x_test dataset:  (56962, 22)\n",
            "Transaction Number y_test dataset:  (56962, 1)\n",
            "Before OverSampling, counts of label '1': [103]\n",
            "Before OverSampling, counts of label '0': [56859] \n",
            "\n"
          ],
          "name": "stdout"
        },
        {
          "output_type": "stream",
          "text": [
            "/usr/local/lib/python3.7/dist-packages/sklearn/utils/deprecation.py:87: FutureWarning: Function safe_indexing is deprecated; safe_indexing is deprecated in version 0.22 and will be removed in version 0.24.\n",
            "  warnings.warn(msg, category=FutureWarning)\n"
          ],
          "name": "stderr"
        },
        {
          "output_type": "stream",
          "text": [
            "After OverSampling, the shape of test_x: (113718, 22)\n",
            "After OverSampling, the shape of test_y: (113718,) \n",
            "\n",
            "After OverSampling, counts of label '1', %: 50.0\n",
            "After OverSampling, counts of label '0', %: 50.0\n"
          ],
          "name": "stdout"
        }
      ]
    },
    {
      "cell_type": "markdown",
      "metadata": {
        "id": "3IZhjBwerULV"
      },
      "source": [
        "We can see that after oversampling with SMOTE, count of each label (1 or 0) is balanced in X and Y train and test."
      ]
    },
    {
      "cell_type": "markdown",
      "metadata": {
        "id": "GdjbklfTxk-z"
      },
      "source": [
        "**After finding an appropriate dataset, checking for nulls, scaling, deleting unnecessary attributes, dividing into X and Y, dividing into train and test, and oversampling, the data is ready to be used in order to train our models: MLP Classifier, SVM Classifier, Logistic Regression**"
      ]
    },
    {
      "cell_type": "markdown",
      "metadata": {
        "id": "M9KdbFKP1lG_"
      },
      "source": [
        "# **Creating, training and testing a MLP Classifier model**"
      ]
    },
    {
      "cell_type": "code",
      "metadata": {
        "id": "QRGOsBIA4HGx"
      },
      "source": [
        "##Creating a mlp classifier\n",
        "mlp = sklearn.neural_network.MLPClassifier(hidden_layer_sizes=(200, 200), solver='adam', learning_rate_init=0.1)\n",
        "\n",
        "##Trial and error with hidden_layer_sizes in mlp model:\n",
        "##attempt with 100, 150, 100 -> score = 92.9 (initial attempt)\n",
        "##attempt with 50, 100, 50 -> score = 92.6 (perceptron decrease attempt)\n",
        "##attempt with 200, 300, 200 -> score = 92.9 (perceptron increase attempt)\n",
        "##perceptron increase was not effective, while decrease lowered the score.\n",
        "##However, I will attempt with additional options to check effect on score\n",
        "##attempt with 125, 175, 125 -> score = 93 (additional attempt with increased amount, smaller increase)\n",
        "##attempt with 25, 75, 25 -> score = 88.1 (additional attempt with decreased amount, larger decrease)\n",
        "##the significant decrease in perceptrons significantly lowered the score\n",
        "##after multiple attempts with three hiden layers, the best number of perceptrons (with 3 hidden layers) is 100, 150, 100\n",
        "##I will attempt to change number of hidden layers to see the effect on the score\n",
        "##attempt with 100, 100 -> score = 93.5 (layer decrease attempt, 2 hidden layers)\n",
        "##score is slightly improved, I will attempt with a different number of perceptrons, with 2 hidden layers\n",
        "##attempt with 150, 150 -> score = 93.6 (perceptron increase attempt)\n",
        "##attempt with 75, 75 -> score = 93.4 (perceptron decrease attempt)\n",
        "##decrease was not effective, I will attempt to decrease additionally\n",
        "##attempt with 50, 50 -> score = 87.4 (additional perceptron decrease)\n",
        "##additional decrease significantly lowered score\n",
        "##increase was also not effective, I will attempt to increase additionally\n",
        "##attempt with 200, 200 -> score = 93.8 (additional perceptron increase)\n",
        "##highest score is with: hidden_layer_sizes = (200, 200)\n",
        "\n",
        "##Alteration of solver parameter:\n",
        "##solver = 'sgd' -> score = 93.82 (initial attempt)\n",
        "##solver = 'adam' -> score = 94.41\n",
        "\n",
        "##Alteration of learning_rate_init parameter:\n",
        "##learning_rate_init = 0.1 -> score = 94.41 (initial attempt)\n",
        "##learning_rate_init = 0.05 -> score = 94.13\n",
        "##learning_rate_init = 0.15 -> score = 92.67\n",
        "\n",
        "##Optimal parameter setting:\n",
        "##learning_rate_init = 0.1\n",
        "##solver = 'adam'\n",
        "##hidden_layer_sizes = (200, 200)\n",
        "\n",
        "##Training the model with train data\n",
        "mlp.fit(X_train_s, Y_train_s)\n",
        "\n",
        "#Predicting response for test data\n",
        "Y_pred = mlp.predict(X_test_s)"
      ],
      "execution_count": null,
      "outputs": []
    },
    {
      "cell_type": "markdown",
      "metadata": {
        "id": "IJ3bvWz3wPPn"
      },
      "source": [
        "**Checking our mlp score**"
      ]
    },
    {
      "cell_type": "code",
      "metadata": {
        "colab": {
          "base_uri": "https://localhost:8080/"
        },
        "id": "-lLTn4KlTZrs",
        "outputId": "2febc6c0-d1f5-483a-afd8-f3e59bfb02d1"
      },
      "source": [
        "##Checking our score for test data\n",
        "mlp.score(X_test_s, Y_test_s)"
      ],
      "execution_count": null,
      "outputs": [
        {
          "output_type": "execute_result",
          "data": {
            "text/plain": [
              "0.944160115373116"
            ]
          },
          "metadata": {
            "tags": []
          },
          "execution_count": 93
        }
      ]
    },
    {
      "cell_type": "markdown",
      "metadata": {
        "id": "BuaLjuMYs-52"
      },
      "source": [
        "After running the program multiple times with many different options, I found that the optimal architecture for the network is two layers, both containing 200 perceptrons. The optimal tuning learning_rate_init = 0.1, while the optimal solver is 'adam'.\n",
        "\n",
        "**The score for the mlp model is ~94.4%**"
      ]
    },
    {
      "cell_type": "markdown",
      "metadata": {
        "id": "6rBaa8E9RnqV"
      },
      "source": [
        "**Using a confusion matrix and a classification report to evaluate the classification accuracy of our MLP Classifier model**"
      ]
    },
    {
      "cell_type": "code",
      "metadata": {
        "colab": {
          "base_uri": "https://localhost:8080/",
          "height": 282
        },
        "id": "_iKONv5uTxVj",
        "outputId": "fcd4703b-cebd-46a1-d2f7-eeed6392bbd4"
      },
      "source": [
        "##Creating a confusion matrix\n",
        "cf_matrix_mlp = confusion_matrix(Y_test_s, Y_pred)\n",
        "\n",
        "##Creating an array for names, counts, and percentages regarding classification\n",
        "group_names = ['True Neg','False Pos','False Neg','True Pos']\n",
        "group_counts = [\"{0:0.0f}\".format(value) for value in\n",
        "                cf_matrix_mlp.flatten()]\n",
        "group_percentages = [\"{0:.2%}\".format(value) for value in\n",
        "                     cf_matrix_mlp.flatten()/np.sum(cf_matrix_mlp)]\n",
        "labels = [f\"{v1}\\n{v2}\\n{v3}\" for v1, v2, v3 in\n",
        "          zip(group_names,group_counts,group_percentages)]\n",
        "labels = np.asarray(labels).reshape(2,2)\n",
        "\n",
        "##Presenting classification results in seaborn heatmap\n",
        "sns.heatmap(cf_matrix_mlp, annot=labels, fmt='', cmap='Blues')\n",
        "print(\"MLP Classifier confusion matrix\")"
      ],
      "execution_count": null,
      "outputs": [
        {
          "output_type": "stream",
          "text": [
            "MLP Classifier confusion matrix\n"
          ],
          "name": "stdout"
        },
        {
          "output_type": "display_data",
          "data": {
            "image/png": "[encoded data removed]",
            "text/plain": [
              "<Figure size 432x288 with 2 Axes>"
            ]
          },
          "metadata": {
            "tags": [],
            "needs_background": "light"
          }
        }
      ]
    },
    {
      "cell_type": "code",
      "metadata": {
        "colab": {
          "base_uri": "https://localhost:8080/"
        },
        "id": "WNv_AVsnTxVk",
        "outputId": "d630dbc4-669e-4bf8-da50-9e8e329b1203"
      },
      "source": [
        "##Creating and presenting a classification report for MLP Classifier model\n",
        "matrix_mlp = classification_report(Y_test_s, Y_pred)\n",
        "print('MLP Classification Report: \\n',matrix_mlp)"
      ],
      "execution_count": null,
      "outputs": [
        {
          "output_type": "stream",
          "text": [
            "MLP Classification Report: \n",
            "               precision    recall  f1-score   support\n",
            "\n",
            "           0       0.93      0.96      0.95     56859\n",
            "           1       0.96      0.93      0.94     56859\n",
            "\n",
            "    accuracy                           0.94    113718\n",
            "   macro avg       0.94      0.94      0.94    113718\n",
            "weighted avg       0.94      0.94      0.94    113718\n",
            "\n"
          ],
          "name": "stdout"
        }
      ]
    },
    {
      "cell_type": "markdown",
      "metadata": {
        "id": "q05pb5L1y2ll"
      },
      "source": [
        "# **Creating, training and testing a SVM Classifier model**"
      ]
    },
    {
      "cell_type": "code",
      "metadata": {
        "id": "SPhSaOGBsDAI"
      },
      "source": [
        "##Creating a svm classifier\n",
        "svm = svm.SVC(kernel='rbf',C=1)\n",
        "    \n",
        "##Alteration of kernel parameter:\n",
        "##kernel = 'rbf' -> score = 94.35 (initial attempt)\n",
        "##kernel = 'poly' -> score = 92.25\n",
        "##kernel = 'linear' -> score = 92.2\n",
        "##We will use rbf kernel\n",
        "\n",
        "##Alteration of C parameter:\n",
        "##C = 1 -> score = 94.35 (initial attempt)\n",
        "##C = 2 -> score = 94.15\n",
        "##C = 10 -> score = 93.4\n",
        "##increase in C caused lower scores\n",
        "##optimal C setting is C=1\n",
        "\n",
        "##Optimal parameter setting:\n",
        "##C = 1\n",
        "##kernel = 'rbf'\n",
        "\n",
        "##Training the model with training data\n",
        "svm.fit(X_train_s, Y_train_s)\n",
        "\n",
        "#Predicting response for test data\n",
        "Y_pred_svm = svm.predict(X_test_s)"
      ],
      "execution_count": null,
      "outputs": []
    },
    {
      "cell_type": "markdown",
      "metadata": {
        "id": "-vecGXa6sDAJ"
      },
      "source": [
        "**Checking our svm score**"
      ]
    },
    {
      "cell_type": "code",
      "metadata": {
        "colab": {
          "base_uri": "https://localhost:8080/"
        },
        "id": "tovi4iw5sDAK",
        "outputId": "01b76ed1-9e9b-438b-bbae-dbbebc972a1e"
      },
      "source": [
        "##Checking our score for test data\n",
        "svm.score(X_test_s, Y_test_s)"
      ],
      "execution_count": null,
      "outputs": [
        {
          "output_type": "execute_result",
          "data": {
            "text/plain": [
              "0.943491795494117"
            ]
          },
          "metadata": {
            "tags": []
          },
          "execution_count": 96
        }
      ]
    },
    {
      "cell_type": "markdown",
      "metadata": {
        "id": "sG4oMPoEsDAL"
      },
      "source": [
        "After running the program multiple times with many different options, I found that the optimal tuning is C = 1, with a rbf kernel.\n",
        "\n",
        "**The score for the svm model is ~94.3%**"
      ]
    },
    {
      "cell_type": "markdown",
      "metadata": {
        "id": "_YjB4LxGsDAM"
      },
      "source": [
        "**Using a confusion matrix and a classification report to evaluate the classification accuracy of our SVM Classifier model**"
      ]
    },
    {
      "cell_type": "code",
      "metadata": {
        "colab": {
          "base_uri": "https://localhost:8080/",
          "height": 282
        },
        "id": "jx4XaDKKsDAM",
        "outputId": "3f4e0c7f-144f-4756-e968-3b2f9dbda7d2"
      },
      "source": [
        "##Creating a confusion matrix\n",
        "cf_matrix_svm = confusion_matrix(Y_test_s, Y_pred_svm)\n",
        "\n",
        "##Creating an array for names, counts, and percentages regarding classification\n",
        "group_names = ['True Neg','False Pos','False Neg','True Pos']\n",
        "group_counts = [\"{0:0.0f}\".format(value) for value in\n",
        "                cf_matrix_svm.flatten()]\n",
        "group_percentages = [\"{0:.2%}\".format(value) for value in\n",
        "                     cf_matrix_svm.flatten()/np.sum(cf_matrix_svm)]\n",
        "labels = [f\"{v1}\\n{v2}\\n{v3}\" for v1, v2, v3 in\n",
        "          zip(group_names,group_counts,group_percentages)]\n",
        "labels = np.asarray(labels).reshape(2,2)\n",
        "\n",
        "##Presenting classification results in seaborn heatmap\n",
        "sns.heatmap(cf_matrix_svm, annot=labels, fmt='', cmap='Blues')\n",
        "print(\"SVM Classifier confusion matrix\")"
      ],
      "execution_count": null,
      "outputs": [
        {
          "output_type": "stream",
          "text": [
            "SVM Classifier confusion matrix\n"
          ],
          "name": "stdout"
        },
        {
          "output_type": "display_data",
          "data": {
            "image/png": "[encoded data removed]",
            "text/plain": [
              "<Figure size 432x288 with 2 Axes>"
            ]
          },
          "metadata": {
            "tags": [],
            "needs_background": "light"
          }
        }
      ]
    },
    {
      "cell_type": "code",
      "metadata": {
        "colab": {
          "base_uri": "https://localhost:8080/"
        },
        "id": "nS4EJS1XsDAM",
        "outputId": "1c718750-f6e2-4505-cdc3-5fb367feebe0"
      },
      "source": [
        "##Creating and presenting a classification report for SVM Classifier model\n",
        "matrix_svm = classification_report(Y_test_s, Y_pred_svm)\n",
        "print('SVM Classification Report: \\n',matrix_svm)"
      ],
      "execution_count": null,
      "outputs": [
        {
          "output_type": "stream",
          "text": [
            "SVM Classification Report: \n",
            "               precision    recall  f1-score   support\n",
            "\n",
            "           0       0.91      0.98      0.95     56859\n",
            "           1       0.98      0.90      0.94     56859\n",
            "\n",
            "    accuracy                           0.94    113718\n",
            "   macro avg       0.95      0.94      0.94    113718\n",
            "weighted avg       0.95      0.94      0.94    113718\n",
            "\n"
          ],
          "name": "stdout"
        }
      ]
    },
    {
      "cell_type": "markdown",
      "metadata": {
        "id": "BYFxbRsBSNhL"
      },
      "source": [
        "# **Creating, training and testing a Logistic Regression model**"
      ]
    },
    {
      "cell_type": "code",
      "metadata": {
        "id": "R6UGdb4CTU93"
      },
      "source": [
        "##Creating the model with sklearn LogisticRegression\n",
        "log = LogisticRegression(solver='liblinear', penalty='l1', C=0.001)\n",
        "\n",
        "##Initial attempt for logistic regression model:\n",
        "##default -> score = 93.2\n",
        "\n",
        "##Attempt with 'elasticnet' penalty:\n",
        "##solver = 'saga' (requirement for 'elasicnet' penalty)\n",
        "##l1_ratio = 1 (setting is required with 'elasticnet' penalty)\n",
        "##score = 93.1\n",
        "\n",
        "##Alteration of C parameter:\n",
        "##C = 0.01 -> score =  93.17\n",
        "##C = 0.001 -> score = 93.26\n",
        "##C = 0.0001 -> score = 93.16\n",
        "##C = 0.00001 -> score = 91.91\n",
        "\n",
        "##Alteration of l1_ratio parameter:\n",
        "##l1_ratio = 1 -> score = 93.26\n",
        "##l1_ratio = 0.5 -> score = 93.22\n",
        "##l1_ratio = 0 -> score = 93.18\n",
        "##highest score is with l1_ratio=1, equivalent to setting penalty as l1\n",
        "##we will set: penalty = 'l1' (we can now change solver parameter)\n",
        "\n",
        "##Alteration of solver parameter:\n",
        "##solver = 'saga' -> score = 93.26\n",
        "##solver = 'liblinear' -> score = 93.29\n",
        "##other solvers do not support l1 penalty\n",
        "\n",
        "##Optimal parameter setting:\n",
        "##C = 0.001\n",
        "##penalty = 'l1'\n",
        "##solver = 'liblinear'\n",
        "\n",
        "\n",
        "##Training the model with train data\n",
        "log.fit(X_train_s, Y_train_s)\n",
        "\n",
        "#Predicting response for test data\n",
        "Y_pred_log = log.predict(X_test_s)"
      ],
      "execution_count": null,
      "outputs": []
    },
    {
      "cell_type": "markdown",
      "metadata": {
        "id": "BUSXOr2xsJ-9"
      },
      "source": [
        "**Checking our logistic regression score**"
      ]
    },
    {
      "cell_type": "code",
      "metadata": {
        "id": "1rovIe-uTv4O",
        "colab": {
          "base_uri": "https://localhost:8080/"
        },
        "outputId": "d92e92f7-f274-48c2-9e1b-dff9ff8ab2ab"
      },
      "source": [
        "##Checking our score for test data\n",
        "log.score(X_test_s, Y_test_s)"
      ],
      "execution_count": null,
      "outputs": [
        {
          "output_type": "execute_result",
          "data": {
            "text/plain": [
              "0.9328338521606078"
            ]
          },
          "metadata": {
            "tags": []
          },
          "execution_count": 91
        }
      ]
    },
    {
      "cell_type": "markdown",
      "metadata": {
        "id": "cjbaxnYoTMR7"
      },
      "source": [
        "After running the program multiple times with multiple different options, I found that the optimal tuning is setting penalty as 'l1', while solver is 'liblinear', and parameter C is 0.0001. \n",
        "\n",
        "**The score for the logistic regression model is ~93.3%**"
      ]
    },
    {
      "cell_type": "markdown",
      "metadata": {
        "id": "7LIpFcU4UdQ7"
      },
      "source": [
        "**Using a confusion matrix and a classification report to evaluate the classification accuracy of our Logistic Regression model**"
      ]
    },
    {
      "cell_type": "code",
      "metadata": {
        "colab": {
          "base_uri": "https://localhost:8080/",
          "height": 282
        },
        "id": "OLVe8rRzMJUd",
        "outputId": "0fc20640-2f78-4334-c0c9-18d11ccb31d5"
      },
      "source": [
        "##Creating a confusion matrix\n",
        "cf_matrix_log = confusion_matrix(Y_test_s, Y_pred_log)\n",
        "\n",
        "##Creating an array for names, counts, and percentages regarding classification\n",
        "group_names = ['True Neg','False Pos','False Neg','True Pos']\n",
        "group_counts = [\"{0:0.0f}\".format(value) for value in\n",
        "                cf_matrix_log.flatten()]\n",
        "group_percentages = [\"{0:.2%}\".format(value) for value in\n",
        "                     cf_matrix_log.flatten()/np.sum(cf_matrix_log)]\n",
        "labels = [f\"{v1}\\n{v2}\\n{v3}\" for v1, v2, v3 in\n",
        "          zip(group_names,group_counts,group_percentages)]\n",
        "labels = np.asarray(labels).reshape(2,2)\n",
        "\n",
        "##Presenting classification results in seaborn heatmap\n",
        "sns.heatmap(cf_matrix_log, annot=labels, fmt='', cmap='Blues')\n",
        "print(\"Logistic Regression confusion matrix\")"
      ],
      "execution_count": null,
      "outputs": [
        {
          "output_type": "stream",
          "text": [
            "Logistic Regression confusion matrix\n"
          ],
          "name": "stdout"
        },
        {
          "output_type": "display_data",
          "data": {
            "image/png": "[encoded data removed]",
            "text/plain": [
              "<Figure size 432x288 with 2 Axes>"
            ]
          },
          "metadata": {
            "tags": [],
            "needs_background": "light"
          }
        }
      ]
    },
    {
      "cell_type": "code",
      "metadata": {
        "id": "53fSYSNZxVTh",
        "colab": {
          "base_uri": "https://localhost:8080/"
        },
        "outputId": "eb0ca7a1-662d-4be4-bc48-4d0c33648e70"
      },
      "source": [
        "##Creating and presenting a classification report for Logistic Regression model\n",
        "matrix_log = classification_report(Y_test_s, Y_pred_log)\n",
        "print('Logistic Regression Classification Report: \\n',matrix_log)"
      ],
      "execution_count": null,
      "outputs": [
        {
          "output_type": "stream",
          "text": [
            "Logistic Regression Classification Report: \n",
            "               precision    recall  f1-score   support\n",
            "\n",
            "           0       0.90      0.97      0.94     56859\n",
            "           1       0.97      0.89      0.93     56859\n",
            "\n",
            "    accuracy                           0.93    113718\n",
            "   macro avg       0.94      0.93      0.93    113718\n",
            "weighted avg       0.94      0.93      0.93    113718\n",
            "\n"
          ],
          "name": "stdout"
        }
      ]
    },
    {
      "cell_type": "markdown",
      "metadata": {
        "id": "9N850XTzI55L"
      },
      "source": [
        "After training and testing each model separately, we will now combine the three models and use them together to detect credit card fraud."
      ]
    },
    {
      "cell_type": "markdown",
      "metadata": {
        "id": "PRFGr4y-IZBg"
      },
      "source": [
        "# **Testing combination of models**"
      ]
    },
    {
      "cell_type": "markdown",
      "metadata": {
        "id": "qb4gvi6QIpqv"
      },
      "source": [
        "**Predicting response for test data according to majority of models**"
      ]
    },
    {
      "cell_type": "markdown",
      "metadata": {
        "id": "sLoHcq0fw8ls"
      },
      "source": [
        "We will use each model's prediction of the response to test data, and predict the final response according to the majority of the models. Even if one of the models predicts incorrectly, the prediction will still be correct, thus lowering the chances of a mistake and probably increasing our score.\n",
        "\n",
        "Each prediction is either 1 or 0. We will combine the answers of each model. If the total is 2 or higher, the majority of models predicted the result is 1 (fraud). Otherwise, we can assume the majority of models predicted the result is 0 (not fraud). We use this method to create a combination of all three models."
      ]
    },
    {
      "cell_type": "code",
      "metadata": {
        "id": "ONwoVgRFIdOE"
      },
      "source": [
        "##Creating an empty numpy array for final predictions\n",
        "Y_pred_total = np.zeros(shape=(Y_pred_log.size,1))\n",
        "total = 0\n",
        "\n",
        "##Setting each final response prediction according to majority\n",
        "for i in range(Y_pred_total.size):\n",
        "  total = Y_pred_log[i] + Y_pred_svm[i] + Y_pred[i]\n",
        "  if(total >= 2):\n",
        "    Y_pred_total[i] = 1\n",
        "  else:\n",
        "    Y_pred_total[i] = 0"
      ],
      "execution_count": null,
      "outputs": []
    },
    {
      "cell_type": "markdown",
      "metadata": {
        "id": "dGrhWnq9SkCR"
      },
      "source": [
        "**Checking the score for the model combination**"
      ]
    },
    {
      "cell_type": "code",
      "metadata": {
        "colab": {
          "base_uri": "https://localhost:8080/"
        },
        "id": "AS1ZxEKoSWxc",
        "outputId": "f9979cb2-8135-4943-f99a-e6262df7c9a3"
      },
      "source": [
        "##Checking our score for test data. Using accuracy_score because the combination isn't a model so we can't use .score()\n",
        "accuracy_score(Y_test_s, Y_pred_total)"
      ],
      "execution_count": null,
      "outputs": [
        {
          "output_type": "execute_result",
          "data": {
            "text/plain": [
              "0.9487152429694508"
            ]
          },
          "metadata": {
            "tags": []
          },
          "execution_count": 86
        }
      ]
    },
    {
      "cell_type": "markdown",
      "metadata": {
        "id": "1nwq4mCusCFv"
      },
      "source": [
        "We can see that the score for the model combination is higher than the scores of each model separately.\n",
        "\n",
        "**The score for the model combination is ~94.9%**"
      ]
    },
    {
      "cell_type": "markdown",
      "metadata": {
        "id": "B5dFkQzoI4H3"
      },
      "source": [
        "**Using a confusion matrix and a classification report to evaluate the classification accuracy of the combined models**"
      ]
    },
    {
      "cell_type": "code",
      "metadata": {
        "colab": {
          "base_uri": "https://localhost:8080/",
          "height": 282
        },
        "id": "5JkgU4BQIoaf",
        "outputId": "b5da32eb-f147-4ba3-aeb7-9607fd0debe7"
      },
      "source": [
        "##Creating a confusion matrix\n",
        "cf_matrix_total = confusion_matrix(Y_test_s, Y_pred_total)\n",
        "\n",
        "##Creating an array for names, counts, and percentages regarding classification\n",
        "group_names = ['True Neg','False Pos','False Neg','True Pos']\n",
        "group_counts = [\"{0:0.0f}\".format(value) for value in\n",
        "                cf_matrix_total.flatten()]\n",
        "group_percentages = [\"{0:.2%}\".format(value) for value in\n",
        "                     cf_matrix_total.flatten()/np.sum(cf_matrix_total)]\n",
        "labels = [f\"{v1}\\n{v2}\\n{v3}\" for v1, v2, v3 in\n",
        "          zip(group_names,group_counts,group_percentages)]\n",
        "labels = np.asarray(labels).reshape(2,2)\n",
        "\n",
        "##Presenting classification data in seaborn heatmap\n",
        "sns.heatmap(cf_matrix_total, annot=labels, fmt='', cmap='Blues')\n",
        "print(\"Model Combination confusion matrix\")"
      ],
      "execution_count": null,
      "outputs": [
        {
          "output_type": "stream",
          "text": [
            "Model Combination confusion matrix\n"
          ],
          "name": "stdout"
        },
        {
          "output_type": "display_data",
          "data": {
            "image/png": "[encoded data removed]",
            "text/plain": [
              "<Figure size 432x288 with 2 Axes>"
            ]
          },
          "metadata": {
            "tags": [],
            "needs_background": "light"
          }
        }
      ]
    },
    {
      "cell_type": "code",
      "metadata": {
        "colab": {
          "base_uri": "https://localhost:8080/"
        },
        "id": "cq28EOczJ6CP",
        "outputId": "33ae62c8-9b52-470d-b55b-3ce4eeb92e7c"
      },
      "source": [
        "##Creating and presenting a classification report for the combined models\n",
        "matrix_total = classification_report(Y_test_s, Y_pred_total)\n",
        "print('Model Combination Report: \\n',matrix_total)"
      ],
      "execution_count": null,
      "outputs": [
        {
          "output_type": "stream",
          "text": [
            "Model Combination Report: \n",
            "               precision    recall  f1-score   support\n",
            "\n",
            "           0       0.92      0.98      0.95     56859\n",
            "           1       0.98      0.92      0.95     56859\n",
            "\n",
            "    accuracy                           0.95    113718\n",
            "   macro avg       0.95      0.95      0.95    113718\n",
            "weighted avg       0.95      0.95      0.95    113718\n",
            "\n"
          ],
          "name": "stdout"
        }
      ]
    },
    {
      "cell_type": "markdown",
      "metadata": {
        "id": "lqGeR-b7RskA"
      },
      "source": [
        "After improving our dataset, training and testing three different models, and combining the three models together, we can now utilize the combination practically to detect fraud in specific, actual credit card transactions."
      ]
    },
    {
      "cell_type": "markdown",
      "metadata": {
        "id": "s8erlbBt7KSs"
      },
      "source": [
        "# **Practical use of models**"
      ]
    },
    {
      "cell_type": "markdown",
      "metadata": {
        "id": "s5cH5NM77KSu"
      },
      "source": [
        "**Specific attempt with each model to test their success in practical use**"
      ]
    },
    {
      "cell_type": "markdown",
      "metadata": {
        "id": "919yt-ggZt4n"
      },
      "source": [
        "As a test for the practical use of the models, we will use the first example in our dataset to test each model separately with a sample of data. The prediction for each one of the models shoud be 'Class' = 0, not fraud."
      ]
    },
    {
      "cell_type": "code",
      "metadata": {
        "colab": {
          "base_uri": "https://localhost:8080/",
          "height": 204
        },
        "id": "5ypNRXV77KSv",
        "outputId": "e46bb166-3104-4f5b-a360-4cb02a8f8ff5"
      },
      "source": [
        "df.head()"
      ],
      "execution_count": null,
      "outputs": [
        {
          "output_type": "execute_result",
          "data": {
            "text/html": [
              "<div>\n",
              "<style scoped>\n",
              "    .dataframe tbody tr th:only-of-type {\n",
              "        vertical-align: middle;\n",
              "    }\n",
              "\n",
              "    .dataframe tbody tr th {\n",
              "        vertical-align: top;\n",
              "    }\n",
              "\n",
              "    .dataframe thead th {\n",
              "        text-align: right;\n",
              "    }\n",
              "</style>\n",
              "<table border=\"1\" class=\"dataframe\">\n",
              "  <thead>\n",
              "    <tr style=\"text-align: right;\">\n",
              "      <th></th>\n",
              "      <th>V1</th>\n",
              "      <th>V3</th>\n",
              "      <th>V4</th>\n",
              "      <th>V5</th>\n",
              "      <th>V6</th>\n",
              "      <th>V7</th>\n",
              "      <th>V8</th>\n",
              "      <th>V11</th>\n",
              "      <th>V12</th>\n",
              "      <th>V13</th>\n",
              "      <th>V14</th>\n",
              "      <th>V15</th>\n",
              "      <th>V17</th>\n",
              "      <th>V18</th>\n",
              "      <th>V20</th>\n",
              "      <th>V21</th>\n",
              "      <th>V22</th>\n",
              "      <th>V23</th>\n",
              "      <th>V24</th>\n",
              "      <th>V25</th>\n",
              "      <th>V26</th>\n",
              "      <th>Class</th>\n",
              "      <th>amountN</th>\n",
              "    </tr>\n",
              "  </thead>\n",
              "  <tbody>\n",
              "    <tr>\n",
              "      <th>0</th>\n",
              "      <td>-1.359807</td>\n",
              "      <td>2.536347</td>\n",
              "      <td>1.378155</td>\n",
              "      <td>-0.338321</td>\n",
              "      <td>0.462388</td>\n",
              "      <td>0.239599</td>\n",
              "      <td>0.098698</td>\n",
              "      <td>-0.551600</td>\n",
              "      <td>-0.617801</td>\n",
              "      <td>-0.991390</td>\n",
              "      <td>-0.311169</td>\n",
              "      <td>1.468177</td>\n",
              "      <td>0.207971</td>\n",
              "      <td>0.025791</td>\n",
              "      <td>0.251412</td>\n",
              "      <td>-0.018307</td>\n",
              "      <td>0.277838</td>\n",
              "      <td>-0.110474</td>\n",
              "      <td>0.066928</td>\n",
              "      <td>0.128539</td>\n",
              "      <td>-0.189115</td>\n",
              "      <td>0</td>\n",
              "      <td>0.005824</td>\n",
              "    </tr>\n",
              "    <tr>\n",
              "      <th>1</th>\n",
              "      <td>1.191857</td>\n",
              "      <td>0.166480</td>\n",
              "      <td>0.448154</td>\n",
              "      <td>0.060018</td>\n",
              "      <td>-0.082361</td>\n",
              "      <td>-0.078803</td>\n",
              "      <td>0.085102</td>\n",
              "      <td>1.612727</td>\n",
              "      <td>1.065235</td>\n",
              "      <td>0.489095</td>\n",
              "      <td>-0.143772</td>\n",
              "      <td>0.635558</td>\n",
              "      <td>-0.114805</td>\n",
              "      <td>-0.183361</td>\n",
              "      <td>-0.069083</td>\n",
              "      <td>-0.225775</td>\n",
              "      <td>-0.638672</td>\n",
              "      <td>0.101288</td>\n",
              "      <td>-0.339846</td>\n",
              "      <td>0.167170</td>\n",
              "      <td>0.125895</td>\n",
              "      <td>0</td>\n",
              "      <td>0.000105</td>\n",
              "    </tr>\n",
              "    <tr>\n",
              "      <th>2</th>\n",
              "      <td>-1.358354</td>\n",
              "      <td>1.773209</td>\n",
              "      <td>0.379780</td>\n",
              "      <td>-0.503198</td>\n",
              "      <td>1.800499</td>\n",
              "      <td>0.791461</td>\n",
              "      <td>0.247676</td>\n",
              "      <td>0.624501</td>\n",
              "      <td>0.066084</td>\n",
              "      <td>0.717293</td>\n",
              "      <td>-0.165946</td>\n",
              "      <td>2.345865</td>\n",
              "      <td>1.109969</td>\n",
              "      <td>-0.121359</td>\n",
              "      <td>0.524980</td>\n",
              "      <td>0.247998</td>\n",
              "      <td>0.771679</td>\n",
              "      <td>0.909412</td>\n",
              "      <td>-0.689281</td>\n",
              "      <td>-0.327642</td>\n",
              "      <td>-0.139097</td>\n",
              "      <td>0</td>\n",
              "      <td>0.014739</td>\n",
              "    </tr>\n",
              "    <tr>\n",
              "      <th>3</th>\n",
              "      <td>-0.966272</td>\n",
              "      <td>1.792993</td>\n",
              "      <td>-0.863291</td>\n",
              "      <td>-0.010309</td>\n",
              "      <td>1.247203</td>\n",
              "      <td>0.237609</td>\n",
              "      <td>0.377436</td>\n",
              "      <td>-0.226487</td>\n",
              "      <td>0.178228</td>\n",
              "      <td>0.507757</td>\n",
              "      <td>-0.287924</td>\n",
              "      <td>-0.631418</td>\n",
              "      <td>-0.684093</td>\n",
              "      <td>1.965775</td>\n",
              "      <td>-0.208038</td>\n",
              "      <td>-0.108300</td>\n",
              "      <td>0.005274</td>\n",
              "      <td>-0.190321</td>\n",
              "      <td>-1.175575</td>\n",
              "      <td>0.647376</td>\n",
              "      <td>-0.221929</td>\n",
              "      <td>0</td>\n",
              "      <td>0.004807</td>\n",
              "    </tr>\n",
              "    <tr>\n",
              "      <th>4</th>\n",
              "      <td>-1.158233</td>\n",
              "      <td>1.548718</td>\n",
              "      <td>0.403034</td>\n",
              "      <td>-0.407193</td>\n",
              "      <td>0.095921</td>\n",
              "      <td>0.592941</td>\n",
              "      <td>-0.270533</td>\n",
              "      <td>-0.822843</td>\n",
              "      <td>0.538196</td>\n",
              "      <td>1.345852</td>\n",
              "      <td>-1.119670</td>\n",
              "      <td>0.175121</td>\n",
              "      <td>-0.237033</td>\n",
              "      <td>-0.038195</td>\n",
              "      <td>0.408542</td>\n",
              "      <td>-0.009431</td>\n",
              "      <td>0.798278</td>\n",
              "      <td>-0.137458</td>\n",
              "      <td>0.141267</td>\n",
              "      <td>-0.206010</td>\n",
              "      <td>0.502292</td>\n",
              "      <td>0</td>\n",
              "      <td>0.002724</td>\n",
              "    </tr>\n",
              "  </tbody>\n",
              "</table>\n",
              "</div>"
            ],
            "text/plain": [
              "         V1        V3        V4        V5  ...       V25       V26  Class   amountN\n",
              "0 -1.359807  2.536347  1.378155 -0.338321  ...  0.128539 -0.189115      0  0.005824\n",
              "1  1.191857  0.166480  0.448154  0.060018  ...  0.167170  0.125895      0  0.000105\n",
              "2 -1.358354  1.773209  0.379780 -0.503198  ... -0.327642 -0.139097      0  0.014739\n",
              "3 -0.966272  1.792993 -0.863291 -0.010309  ...  0.647376 -0.221929      0  0.004807\n",
              "4 -1.158233  1.548718  0.403034 -0.407193  ... -0.206010  0.502292      0  0.002724\n",
              "\n",
              "[5 rows x 23 columns]"
            ]
          },
          "metadata": {
            "tags": []
          },
          "execution_count": 65
        }
      ]
    },
    {
      "cell_type": "code",
      "metadata": {
        "colab": {
          "base_uri": "https://localhost:8080/"
        },
        "id": "g6jXfTeeq0N4",
        "outputId": "a84ea654-7660-40dc-9fa5-594373aa93ab"
      },
      "source": [
        "##Using values from the first example in our dataset\n",
        "ans1 = -1.359807\n",
        "ans2 = 2.536347\n",
        "ans3 = 1.378155\n",
        "ans4 = -0.338321\n",
        "ans5 = 0.462388\n",
        "ans6 = 0.239599\n",
        "ans7 = 0.098698\n",
        "ans8 = -0.551600\n",
        "ans9 = -0.617801\n",
        "ans10 = -0.991390\n",
        "ans11 = -0.311169\n",
        "ans12 = 1.468177\n",
        "ans13 = 0.207971\n",
        "ans14 = 0.025791\n",
        "ans15 = 0.251412\n",
        "ans16 = -0.018307\n",
        "ans17 = 0.277838\n",
        "ans18 = -0.110474\n",
        "ans19 = 0.066928\n",
        "ans20 = 0.128539\n",
        "ans21 = -0.189115\n",
        "ans22 = 0.005824\n",
        "\n",
        "##creating numpy array with data\n",
        "X_spec = np.array([ans1, ans2, ans3, ans4, ans5, ans6, ans7, ans8, ans9, ans10, ans11, ans12, ans13, ans14, ans15, ans16, ans17, ans18, ans19, ans20, ans21, ans22])\n",
        "X_spec = X_spec.astype(np.float64)\n",
        "print(X_spec)\n",
        "X_spec = X_spec.reshape(1, 22)\n",
        "\n",
        "##Checking prediction with logistic regression model\n",
        "Y_pred_logE = log.predict(X_spec)\n",
        "print(Y_pred_logE)\n",
        "if(Y_pred_logE == 0):\n",
        "  print(\"not fraud\")\n",
        "else:\n",
        "  print(\"fraud\")\n",
        "\n",
        "##Checking prediction with svm classifier model\n",
        "Y_pred_svmE = svm.predict(X_spec)\n",
        "print(Y_pred_svmE)\n",
        "if(Y_pred_svmE == 0):\n",
        "  print(\"not fraud\")\n",
        "else:\n",
        "  print(\"fraud\")\n",
        "\n",
        "##Checking prediction with mlp classifier model\n",
        "Y_pred_mlpE = mlp.predict(X_spec)\n",
        "print(Y_pred_mlpE)\n",
        "if(Y_pred_mlpE == 0):\n",
        "  print(\"not fraud\")\n",
        "else:\n",
        "  print(\"fraud\")"
      ],
      "execution_count": null,
      "outputs": [
        {
          "output_type": "stream",
          "text": [
            "[-1.359807  2.536347  1.378155 -0.338321  0.462388  0.239599  0.098698\n",
            " -0.5516   -0.617801 -0.99139  -0.311169  1.468177  0.207971  0.025791\n",
            "  0.251412 -0.018307  0.277838 -0.110474  0.066928  0.128539 -0.189115\n",
            "  0.005824]\n",
            "[0]\n",
            "not fraud\n",
            "[0]\n",
            "not fraud\n",
            "[0]\n",
            "not fraud\n"
          ],
          "name": "stdout"
        }
      ]
    },
    {
      "cell_type": "markdown",
      "metadata": {
        "id": "-oh6gyuR7KSw"
      },
      "source": [
        "All of the models predicted the result correctly. After testing the model combination and testing each model separately with a sample of data, we can now use the combined models with new data."
      ]
    },
    {
      "cell_type": "markdown",
      "metadata": {
        "id": "y6i1Erc0w_i7"
      },
      "source": [
        "**Creating function for practical use of the combined models**"
      ]
    },
    {
      "cell_type": "code",
      "metadata": {
        "id": "IZAZMa57xD22"
      },
      "source": [
        "def modelCombination(X_ans):\n",
        "  if((log.predict(X_ans) + mlp.predict(X_ans) + svm.predict(X_ans)) >= 2):\n",
        "    print(\"fraud\")\n",
        "  else:\n",
        "    print(\"not fraud\")"
      ],
      "execution_count": null,
      "outputs": []
    },
    {
      "cell_type": "markdown",
      "metadata": {
        "id": "9cN7Aa-a7KSx"
      },
      "source": [
        "**Practical use of the combined models**"
      ]
    },
    {
      "cell_type": "markdown",
      "metadata": {
        "id": "p0DCtHq0Bk8j"
      },
      "source": [
        "We will generate data either from input or randomly. We will use the model combination function to predict the response."
      ]
    },
    {
      "cell_type": "markdown",
      "metadata": {
        "id": "lyjMCX6F7KSx"
      },
      "source": [
        "**Practical use with input from user**"
      ]
    },
    {
      "cell_type": "code",
      "metadata": {
        "colab": {
          "base_uri": "https://localhost:8080/"
        },
        "id": "qG6pAFul7KSx",
        "outputId": "a91e0db5-eddb-4b7f-8a8b-57a58574c382"
      },
      "source": [
        "##Receiving input from user for each required attribute\n",
        "ans1 = input(\"enter V1: \")\n",
        "ans2 = input(\"enter V3: \")\n",
        "ans3 = input(\"enter V4: \")\n",
        "ans4 = input(\"enter V5: \")\n",
        "ans5 = input(\"enter V6: \")\n",
        "ans6 = input(\"enter V7: \")\n",
        "ans7 = input(\"enter V8: \")\n",
        "ans8 = input(\"enter V11: \")\n",
        "ans9 = input(\"enter V12: \")\n",
        "ans10 = input(\"enter V13: \")\n",
        "ans11 = input(\"enter V14: \")\n",
        "ans12 = input(\"enter V15: \")\n",
        "ans13 = input(\"enter V17: \")\n",
        "ans14 = input(\"enter V18: \")\n",
        "ans15 = input(\"enter V20: \")\n",
        "ans16 = input(\"enter V21: \")\n",
        "ans17 = input(\"enter V22: \")\n",
        "ans18 = input(\"enter V23: \")\n",
        "ans19 = input(\"enter V24: \")\n",
        "ans20 = input(\"enter V25: \")\n",
        "ans21 = input(\"enter V26: \")\n",
        "ans22 = float(input(\"enter amount: \"))\n",
        "\n",
        "##Dividing by max from initial dataset to scale as with MinMaxScaler\n",
        "ans22 = ans22 / 25691.16\n",
        "\n",
        "##creating numpy array with data\n",
        "X_ans = np.array([ans1, ans2, ans3, ans4, ans5, ans6, ans7, ans8, ans9, ans10, ans11, ans12, ans13, ans14, ans15, ans16, ans17, ans18, ans19, ans20, ans21, ans22])\n",
        "X_ans = X_ans.astype(np.float64)\n",
        "X_ans = X_ans.reshape(1, 22)\n",
        "\n",
        "##Activating model combination function with data from user, printing prediction\n",
        "modelCombination(X_ans)"
      ],
      "execution_count": null,
      "outputs": [
        {
          "output_type": "stream",
          "text": [
            "enter V1: 0.1566\n",
            "enter V3: 1.5169\n",
            "enter V4: -0.156\n",
            "enter V5: 1.1598\n",
            "enter V6: -0.158\n",
            "enter V7: -1.189\n",
            "enter V8: -2.1455\n",
            "enter V11: 2.354\n",
            "enter V12: 1.753\n",
            "enter V13: -1.9588\n",
            "enter V14: 1.169\n",
            "enter V15: 0.1589\n",
            "enter V17: -1.159\n",
            "enter V18: 0.159\n",
            "enter V20: 0.1545\n",
            "enter V21: -0.1558\n",
            "enter V22: 1.156\n",
            "enter V23: -1.158\n",
            "enter V24: 0.9823\n",
            "enter V25: 1.8767\n",
            "enter V26: 1.274\n",
            "enter amount: 950\n",
            "not fraud\n"
          ],
          "name": "stdout"
        }
      ]
    },
    {
      "cell_type": "markdown",
      "metadata": {
        "id": "opz5Dx4d7KS0"
      },
      "source": [
        "**Practical use with randomly generated data**"
      ]
    },
    {
      "cell_type": "code",
      "metadata": {
        "colab": {
          "base_uri": "https://localhost:8080/"
        },
        "id": "2Etn9Spf7KS0",
        "outputId": "f5050663-9057-4096-d3d4-d606119584f1"
      },
      "source": [
        "##Generating random values for each required attribute\n",
        "ans1 = uniform(-1.5, 1.5)\n",
        "ans2 = uniform(-1.5, 1.5)\n",
        "ans3 = uniform(-1.5, 1.5)\n",
        "ans4 = uniform(-1.5, 1.5)\n",
        "ans5 = uniform(-1.5, 1.5)\n",
        "ans6 = uniform(-1.5, 1.5)\n",
        "ans7 = uniform(-1.5, 1.5)\n",
        "ans8 = uniform(-1.5, 1.5)\n",
        "ans9 = uniform(-1.5, 1.5)\n",
        "ans10 = uniform(-1.5, 1.5)\n",
        "ans11 = uniform(-1.5, 1.5)\n",
        "ans12 = uniform(-1.5, 1.5)\n",
        "ans13 = uniform(-1.5, 1.5)\n",
        "ans14 = uniform(-1.5, 1.5)\n",
        "ans15 = uniform(-1.5, 1.5)\n",
        "ans16 = uniform(-1.5, 1.5)\n",
        "ans17 = uniform(-1.5, 1.5)\n",
        "ans18 = uniform(-1.5, 1.5)\n",
        "ans19 = uniform(-1.5, 1.5)\n",
        "ans20 = uniform(-1.5, 1.5)\n",
        "ans21 = uniform(-1.5, 1.5)\n",
        "ans22 = float(randint(1, 25691)) ##setting amount between min and max in initial dataset\n",
        "\n",
        "##Dividing by max from initial dataset to scale as with MinMaxScaler\n",
        "ans22 = ans22 / 25691.16\n",
        "\n",
        "##Creating numpy array with data\n",
        "X_ans = np.array([ans1, ans2, ans3, ans4, ans5, ans6, ans7, ans8, ans9, ans10, ans11, ans12, ans13, ans14, ans15, ans16, ans17, ans18, ans19, ans20, ans21, ans22])\n",
        "X_ans = X_ans.astype(np.float64)\n",
        "X_ans = X_ans.reshape(1, 22)\n",
        "print(X_ans)\n",
        "\n",
        "##Activating model combination function with randomly generated data, printing prediction\n",
        "modelCombination(X_ans)"
      ],
      "execution_count": null,
      "outputs": [
        {
          "output_type": "stream",
          "text": [
            "[[ 0.7542851  -0.11702065  1.39658318  0.21622685 -0.42472608 -1.01749311\n",
            "  -1.44561542  1.08653802 -0.934282    0.73648992  0.18502768  0.13087879\n",
            "  -1.22416597  0.10096156 -0.03864748 -0.51361703 -0.99869601  0.5290228\n",
            "   0.96379911 -0.60362197 -0.46972983  0.4893512 ]]\n",
            "fraud\n"
          ],
          "name": "stdout"
        }
      ]
    },
    {
      "cell_type": "markdown",
      "metadata": {
        "id": "AOtc3ukEIM2K"
      },
      "source": [
        "# **Conclusion**"
      ]
    },
    {
      "cell_type": "markdown",
      "metadata": {
        "id": "fvWp6VP7IM2L"
      },
      "source": [
        "I chose to use 3 models. All of them have specific advantages and high efficiency. Their scores are all between 93-95%, giving the models a high success rate in detecting fraudulent credit card transactions.\n",
        "\n",
        "As we can see in our confusion matrices, all of our models are relatively efficient in correctly classifying transactions. In our classification reports we can also see that we have high precision and recall, giving us a high f1 score.\n",
        "\n",
        "We were then able to combine the models, and use them together to detect credit card fraud in practical situations, with actual data. The combined models were able to predict credit card fraud at a higher success rate than each of the models separately.\n",
        "\n",
        "In conclusion, we were able to create, train, and test a machine learning program that is able to successfully identify fraudulent credit card transactions. We were also able to create a platform in which users can enter details regarding financial credit card transactions, and receive accurate predictions about whether or not the transaction is fraudulent."
      ]
    }
  ]
}